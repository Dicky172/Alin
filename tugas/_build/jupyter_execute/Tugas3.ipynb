{
 "cells": [
  {
   "cell_type": "markdown",
   "metadata": {
    "id": "akB60gVMhswV"
   },
   "source": [
    "# tugas 3\n",
    "Matriks invers\\\n",
    "sifat sifat matriks invers\\\n",
    "mencari invers dengan eliminasi gauss jordan\\\n",
    "solusi sistem persamaan linear dengan matriks invers\\\n",
    "-membuat soal sistem persamaan linear 6 variable\\"
   ]
  },
  {
   "cell_type": "markdown",
   "metadata": {
    "id": "CJk29LDs8gGi"
   },
   "source": [
    "Matriks invers adalah operasi yang dilakukan pada matriks persegi untuk mendapatkan matriks yang, jika dikalikan dengan matriks asal, akan menghasilkan matriks identitas. Matriks identitas adalah matriks persegi di mana semua elemen diagonal utamanya adalah 1, sedangkan elemen-elemen lainnya adalah 0.\n",
    "\n",
    "Jika\n",
    "A adalah sebuah matriks persegi berukuran\n",
    "×\n",
    "n×n, dan jika ada sebuah matriks\n",
    "B berukuran yang sama sehingga\n",
    "=\n",
    "=\n",
    "AB=BA=I, di mana\n",
    "I adalah matriks identitas, maka\n",
    "B disebut invers dari\n",
    "A, dan ditulis sebagai\n",
    "−\n",
    "1\n",
    "A\n",
    "−1\n",
    " .\n",
    "\n",
    "Jika\n",
    "A memiliki invers, maka\n",
    "A disebut nonsingular atau regular. Namun, jika invers dari\n",
    "A tidak ada, maka\n",
    "A disebut singular atau non-invertible.\n",
    "\n",
    "Untuk matriks\n",
    "2\n",
    "×\n",
    "2\n",
    "2×2 dan\n",
    "3\n",
    "×\n",
    "3\n",
    "3×3, ada metode khusus untuk menghitung inversnya. Namun, untuk matriks\n",
    "×\n",
    "n×n dengan\n",
    ">\n",
    "3\n",
    "n>3, metode pencarian inversnya biasanya melibatkan teknik-teknik seperti eliminasi Gauss-Jordan atau dekomposisi LU\n",
    "\n",
    "Rumus untuk  mencari invers matrik.\n",
    "$$\n",
    "A=\\begin{bmatrix}\n",
    "a & b\\\\\n",
    "c & d\n",
    "\\end{bmatrix}\n",
    "$$\\\n",
    "$$\n",
    "A^{-1} = \\frac{1}{\\det{\\left(A\\right)}} \\left[\\begin{matrix}d&-b\\\\-c&a\\\\\\end{matrix}\\right]$$\n",
    "\n",
    "$$\n",
    "A^{-1} = \\frac{1}{ad-bc} \\left[\\begin{matrix}d&-b\\\\-c&a\\\\\\end{matrix}\\right]$$\n"
   ]
  },
  {
   "cell_type": "markdown",
   "metadata": {
    "id": "aTXnP3SP-6K4"
   },
   "source": [
    "Sifat Sifat Matriks invers\n",
    "1. $(A^{-1})^{-1} = A$\n",
    "2. $A^n$ invertibel dan $(A^n)^{-1} = (A^{-1})^n$\n",
    "3. $kA$ adalah matriks invertibel dan $(kA)^{-1} = (\\frac{1}{k})A^{-1}$\n",
    "4. $A^T$ invertibel dan $(A^T)^{-1} = (A^{-1})^T$\n",
    "5. $A$ dan $B$ keduanya matriks invertibel, maka $AB$ invertibel dan $(AB)^{-1} = B^{-1}A^{-1}$\n",
    "\n",
    "## Solusi persamaan sistem linier dengan matrik invers\n",
    "\n",
    "Sistem persamaan linier\n",
    "\n",
    "$2x+3y=6$\n",
    "\n",
    "$4x+5y=11$\n",
    "\n",
    "Ubah dalam persamaan matrik\n",
    "\n",
    "$$\n",
    "\\begin{bmatrix}\n",
    "2 & 3\\\\\n",
    "4 & 5\n",
    "\\end{bmatrix}\n",
    "\\begin{bmatrix}\n",
    "x\\\\\n",
    "y\n",
    "\\end{bmatrix}=\n",
    "\\begin{bmatrix}\n",
    "6\\\\\n",
    "11\n",
    "\\end{bmatrix}\n",
    "$$\n",
    "\n",
    "Langkah pertama\n",
    "\n",
    "$$\n",
    "\\begin{bmatrix}\n",
    "x\\\\\n",
    "y\n",
    "\\end{bmatrix}=\n",
    "\\begin{bmatrix}\n",
    "2 & 3\\\\\n",
    "4 & 5\n",
    "\\end{bmatrix}^{-1}\n",
    "\\begin{bmatrix}\n",
    "6\\\\\n",
    "11\n",
    "\\end{bmatrix}\n",
    "$$\n",
    "\n",
    "Langkah ke-dua\n",
    "\n",
    "$$\n",
    "\\begin{bmatrix}\n",
    "x\\\\\n",
    "y\n",
    "\\end{bmatrix}\n",
    "=\\frac{1}{-2}\\begin{bmatrix}\n",
    "5 & -3\\\\\n",
    "-4 & 2\n",
    "\\end{bmatrix}\n",
    "\\begin{bmatrix}\n",
    "6\\\\\n",
    "11\n",
    "\\end{bmatrix}\n",
    "$$\n",
    "\n",
    "Langkah ke-tiga\n",
    "\n",
    "$$\n",
    "\\begin{bmatrix}\n",
    "x\\\\\n",
    "y\n",
    "\\end{bmatrix}\n",
    "=\\frac{1}{-2}\\begin{bmatrix}\n",
    "-3\\\\\n",
    "-2\n",
    "\\end{bmatrix}\n",
    "$$\n",
    "\n",
    "Langkah ke-empat\n",
    "\n",
    "$$\n",
    "\\begin{bmatrix}\n",
    "x\\\\\n",
    "y\n",
    "\\end{bmatrix}=\n",
    "\\begin{bmatrix}\n",
    "1.5\\\\\n",
    "1\n",
    "\\end{bmatrix}\n",
    "$$\n",
    "import numpy as np\n",
    "A = np.array([[2, 3], [4, 5]])\n",
    "Ai = np.linalg.inv(A) # menghitung inverse A\n",
    "b = np.array([[6], [11]])\n",
    "q = np.dot(Ai, b)\n",
    "print(q)\n",
    "## Mencari matriks invers dengan eliminasi gauss jordan\n",
    "\n",
    "Contoh mencari invers dengan eliminasi gauss jordan menggunakan matriks dengan ordo 3x3\n",
    "\n",
    "Contoh soal $$A = \\begin{bmatrix}\n",
    "1 & 2 & 3\\\\\n",
    "0 & 1 & 4 \\\\\n",
    "5 & 6 & 0\n",
    "\\end{bmatrix}$$\n",
    "\n",
    "$$I = \\begin{bmatrix}\n",
    "1 & 0 & 0\\\\\n",
    "0 & 1 & 0 \\\\\n",
    "0 & 0 & 1\n",
    "\\end{bmatrix}$$\n",
    "\n",
    "Kemudian gunakan gauss jordan elimination\n",
    "$$A = \\begin{bmatrix}\n",
    "1 & 2 & 3|1 & 0 & 0\\\\\n",
    "0 & 1 & 4|0 & 1 & 0  \\\\\n",
    "5 & 6 & 0|0 & 0 & 1\n",
    "\\end{bmatrix}$$\n",
    "\n",
    "untuk mencari invers, gimana caranya matriks identitasnya bisa ada disebelah kiri, terserah baris berapa mau di tambahin/dikurangin/dikali/dibagi dengan baris manapun.\n",
    "\n",
    "Kita kalikan baris pertama dengan 5 kemudian dikurangi baris ketiga\n",
    "$$A = \\begin{bmatrix}\n",
    "1 & 2 & 3|1 & 0 & 0\\\\\n",
    "0 & 1 & 4|0 & 1 & 0  \\\\\n",
    "0 & -4 & -15|-5 & 0 & 1\n",
    "\\end{bmatrix}$$\n",
    "\n",
    "dari matriks diatas, kita tambahkan baris ke tiga dengan 4 kali baris kedua\n",
    "$$A = \\begin{bmatrix}\n",
    "1 & 2 & 3|1 & 0 & 0\\\\\n",
    "0 & 1 & 4|0 & 1 & 0  \\\\\n",
    "0 & 0 & 1|-5 & 4 & 1\n",
    "\\end{bmatrix}$$\n",
    "\n",
    "selanjutnya kita kurangkan baris kedua dengan 4 kali baris ketiga\n",
    "dan kita kurangkan juga baris pertama dengan 3 kali baris ketiga\n",
    "$$A = \\begin{bmatrix}\n",
    "1 & 2 & 0|16 & -12 & -3\\\\\n",
    "0 & 1 & 0|20 & -15 & -4  \\\\\n",
    "0 & 0 & 1|-5 & 4 & 1\n",
    "\\end{bmatrix}$$\n",
    "\n",
    "langkah terakhir kita tinggal kurangkan baris pertama dengan 2x baris kedua.hasilnya :\n",
    "$$A = \\begin{bmatrix}\n",
    "1 & 0 & 0|-24 & 18 & 5\\\\\n",
    "0 & 1 & 0|20 & -15 & -4  \\\\\n",
    "0 & 0 & 1|-5 & 4 & 1\n",
    "\\end{bmatrix}$$\n",
    "\n",
    "nah yang ada disebelah kanan adalah invers dari matrik A.\n",
    "jadi invers matriknya\n",
    "\n",
    "$$A^{-1} = \\begin{bmatrix}\n",
    "-24 & 18 & 5\\\\\n",
    "20 & -15 & -4  \\\\\n",
    "-5 & 4 & 1\n",
    "\\end{bmatrix}$$\n",
    "## Membuat soal sistem persamaan linier 6 variable\n",
    "\n"
   ]
  },
  {
   "cell_type": "markdown",
   "metadata": {
    "id": "ucXYE4TaCU_V"
   },
   "source": [
    "## Mencari invers dengan eliminasi gauss jordan"
   ]
  },
  {
   "cell_type": "code",
   "execution_count": 1,
   "metadata": {
    "colab": {
     "base_uri": "https://localhost:8080/"
    },
    "executionInfo": {
     "elapsed": 580,
     "status": "ok",
     "timestamp": 1713626179905,
     "user": {
      "displayName": "Dicky Saputra",
      "userId": "11534762090813325222"
     },
     "user_tz": -420
    },
    "id": "wJMR8SaUCvNW",
    "outputId": "04d4a666-30c4-45d8-87f1-66da5be0cf18"
   },
   "outputs": [
    {
     "name": "stdout",
     "output_type": "stream",
     "text": [
      "Inverse Matrix:\n",
      "[[ 0.25   -0.6875  0.0625]\n",
      " [ 0.      0.75   -0.25  ]\n",
      " [ 0.     -1.25    0.75  ]]\n"
     ]
    }
   ],
   "source": [
    "import numpy as np\n",
    "\n",
    "def gauss_jordan_inverse(matrix):\n",
    "    n = len(matrix)\n",
    "    augmented_matrix = np.concatenate((matrix, np.identity(n)), axis=1)\n",
    "\n",
    "    for i in range(n):\n",
    "        pivot = augmented_matrix[i][i]\n",
    "\n",
    "        augmented_matrix[i] /= pivot\n",
    "\n",
    "        for j in range(n):\n",
    "            if i != j:\n",
    "                ratio = augmented_matrix[j][i]\n",
    "                augmented_matrix[j] -= ratio * augmented_matrix[i]\n",
    "\n",
    "    inverse = augmented_matrix[:, n:]\n",
    "    return inverse\n",
    "\n",
    "matrix = np.array([[4, 7, 2],\n",
    "                   [0, 3, 1],\n",
    "                   [0, 5, 3]])\n",
    "\n",
    "inverse_matrix = gauss_jordan_inverse(matrix)\n",
    "print(\"Inverse Matrix:\")\n",
    "print(inverse_matrix)\n"
   ]
  },
  {
   "cell_type": "markdown",
   "metadata": {
    "id": "AILoLUm9bDcV"
   },
   "source": [
    "#tugas membuat soal persamaan 6 variabel\n"
   ]
  },
  {
   "cell_type": "code",
   "execution_count": 2,
   "metadata": {
    "colab": {
     "base_uri": "https://localhost:8080/"
    },
    "executionInfo": {
     "elapsed": 76,
     "status": "ok",
     "timestamp": 1713626180402,
     "user": {
      "displayName": "Dicky Saputra",
      "userId": "11534762090813325222"
     },
     "user_tz": -420
    },
    "id": "xkqP8j7ObJtz",
    "outputId": "7d0599ce-498a-40fa-c93b-dcdece8d5270"
   },
   "outputs": [
    {
     "name": "stdout",
     "output_type": "stream",
     "text": [
      "Matriks Awal:\n",
      "[ 2  3 -4  5  3  2 10]\n",
      "[ 4  1  3  5 -2  3 20]\n",
      "[ 2  5  4 -3  2 -1 30]\n",
      "[ 1  3  0  5 -4  3 40]\n",
      "[ 1  2  4  2  6 -5 50]\n",
      "[ 4 -3  1 -1  3  5 60]\n",
      "\n",
      "Matriks Identitas:\n",
      "[  1   0   0   0   0   0 -28]\n",
      "[0 1 0 0 0 0 0]\n",
      "[ 0  0  1  0  0  0 25]\n",
      "[0 0 0 1 0 0 7]\n",
      "[ 0  0  0  0  1  0 22]\n",
      "[ 0  0  0  0  0  1 42]\n",
      "\n",
      "x_1 = -28\n",
      "x_2 = 0\n",
      "x_3 = 25\n",
      "x_4 = 7\n",
      "x_5 = 22\n",
      "x_6 = 42\n"
     ]
    }
   ],
   "source": [
    "import numpy as np\n",
    "\n",
    "def RowScale(A, i, scale):\n",
    "    A[i] = [A[i][j]*scale for j in range(len(A[i]))]\n",
    "    return A\n",
    "\n",
    "def RowSwap(A, i, j):\n",
    "    A[[i, j]] = A[[j, i]]\n",
    "    return A\n",
    "\n",
    "def RowAdd(A, i, j, scale):\n",
    "    A[i] = [A[i][k] + scale*A[j][k] for k in range(len(A[i]))]\n",
    "    return A\n",
    "\n",
    "def PrintMatrix(A):\n",
    "    for row in A:\n",
    "        print(row)\n",
    "\n",
    "def ReduceToIdentity(A):\n",
    "    n = len(A)\n",
    "    for i in range(n):\n",
    "        for j in range(n):\n",
    "            if i != j:\n",
    "                scale = -A[j][i] / A[i][i]\n",
    "                A = RowAdd(A, j, i, scale)\n",
    "    for i in range(n):\n",
    "        scale = 1 / A[i][i]\n",
    "        A = RowScale(A, i, scale)\n",
    "    return A\n",
    "\n",
    "A = np.array([\n",
    "    [2, 3, -4, 5, 3, 2, 10],\n",
    "    [4, 1, 3, 5, -2, 3, 20],\n",
    "    [2, 5, 4, -3, 2, -1, 30],\n",
    "    [1, 3, 0, 5, -4, 3, 40],\n",
    "    [1, 2, 4, 2, 6, -5, 50],\n",
    "    [4, -3, 1, -1, 3, 5, 60]\n",
    "])\n",
    "\n",
    "print(\"Matriks Awal:\")\n",
    "PrintMatrix(A)\n",
    "print()\n",
    "\n",
    "A = ReduceToIdentity(A)\n",
    "\n",
    "print(\"Matriks Identitas:\")\n",
    "PrintMatrix(A)\n",
    "print()\n",
    "\n",
    "for i, row in enumerate(A):\n",
    "    print(f\"x_{i+1} = {row[-1]}\")\n"
   ]
  },
  {
   "cell_type": "code",
   "execution_count": 3,
   "metadata": {
    "id": "eVh0Z2IKTePh"
   },
   "outputs": [],
   "source": [
    "import numpy as np\n",
    "\n",
    "def RowSwap(A,k,l):\n",
    "\n",
    "    m = A.shape[0]\n",
    "    n = A.shape[1]\n",
    "\n",
    "    B = np.copy(A).astype('float64')\n",
    "\n",
    "    for j in range(n):\n",
    "        temp = B[k][j]\n",
    "        B[k][j] = B[l][j]\n",
    "        B[l][j] = temp\n",
    "\n",
    "    return B\n",
    "\n",
    "def RowScale(A,k,scale):\n",
    "\n",
    "    m = A.shape[0]\n",
    "    n = A.shape[1]\n",
    "\n",
    "    B = np.copy(A).astype('float64')\n",
    "\n",
    "    for j in range(n):\n",
    "        B[k][j] *= scale\n",
    "\n",
    "    return B\n",
    "\n",
    "def RowAdd(A,k,l,scale):\n",
    "\n",
    "    m = A.shape[0]\n",
    "    n = A.shape[1]\n",
    "\n",
    "    B = np.copy(A).astype('float64')\n",
    "\n",
    "    for j in range(n):\n",
    "        B[l][j] += B[k][j]*scale\n",
    "\n",
    "    return B"
   ]
  },
  {
   "cell_type": "markdown",
   "metadata": {
    "id": "1BM4R4pTFU-y"
   },
   "source": [
    "$$\n",
    "x1 = 1\\\\\n",
    "x2 = 2\\\\\n",
    "x3 = 1\\\\\n",
    "x4 = 3\\\\\n",
    "x5 = 1\\\\\n",
    "x6 = 2\\\\\n",
    "$$\n",
    "\\begin{bmatrix}\n",
    "x1,2x2,x3,x4,2x5,x6 = 13\\\\\n",
    "2x1,4x2,x3,3x4,x5,x6 = 15\\\\\n",
    "x1,x2,2x3,3x4,x5,x6 = 18\\\\\n",
    "x1,x2,2x3,2x4,x5,x6 = 13\\\\\n",
    "x1,2x2,x3,2x4,3x5,x6 = 13\\\\\n",
    "x1,x2,x3,2x4,3x5,3x6 = 15\\\\\n",
    "\\end{bmatrix}"
   ]
  },
  {
   "cell_type": "code",
   "execution_count": 4,
   "metadata": {
    "colab": {
     "base_uri": "https://localhost:8080/"
    },
    "executionInfo": {
     "elapsed": 68,
     "status": "ok",
     "timestamp": 1713626180402,
     "user": {
      "displayName": "Dicky Saputra",
      "userId": "11534762090813325222"
     },
     "user_tz": -420
    },
    "id": "0_KkMItrTkLU",
    "outputId": "7affcead-5ac2-4af0-a5f6-76135c127bd6"
   },
   "outputs": [
    {
     "name": "stdout",
     "output_type": "stream",
     "text": [
      "[[1 2 1 1 2 1 1 0 0 0 0 0]\n",
      " [2 4 1 3 1 1 0 1 0 0 0 0]\n",
      " [1 1 2 3 1 1 0 0 1 0 0 0]\n",
      " [1 1 2 2 1 1 0 0 0 1 0 0]\n",
      " [1 2 1 2 3 1 0 0 0 0 1 0]\n",
      " [1 1 1 2 3 3 0 0 0 0 0 1]]\n"
     ]
    }
   ],
   "source": [
    "import numpy as np\n",
    "a = np.array([[1,2,1,1,2,1,1,0,0,0,0,0],\n",
    "              [2,4,1,3,1,1,0,1,0,0,0,0],\n",
    "              [1,1,2,3,1,1,0,0,1,0,0,0],\n",
    "              [1,1,2,2,1,1,0,0,0,1,0,0],\n",
    "              [1,2,1,2,3,1,0,0,0,0,1,0],\n",
    "              [1,1,1,2,3,3,0,0,0,0,0,1]])\n",
    "print(a)"
   ]
  },
  {
   "cell_type": "code",
   "execution_count": 5,
   "metadata": {
    "colab": {
     "base_uri": "https://localhost:8080/"
    },
    "executionInfo": {
     "elapsed": 63,
     "status": "ok",
     "timestamp": 1713626180402,
     "user": {
      "displayName": "Dicky Saputra",
      "userId": "11534762090813325222"
     },
     "user_tz": -420
    },
    "id": "J3mBXfPBeGNw",
    "outputId": "327aaca0-5747-4193-947a-f7542fa8285e"
   },
   "outputs": [
    {
     "name": "stdout",
     "output_type": "stream",
     "text": [
      "[[ 1.  2.  1.  1.  2.  1.  1.  0.  0.  0.  0.  0.]\n",
      " [ 0.  2. -3. -3. -1. -1.  0.  1. -2.  0.  0.  0.]\n",
      " [ 1.  1.  2.  3.  1.  1.  0.  0.  1.  0.  0.  0.]\n",
      " [ 1.  1.  2.  2.  1.  1.  0.  0.  0.  1.  0.  0.]\n",
      " [ 1.  2.  1.  2.  3.  1.  0.  0.  0.  0.  1.  0.]\n",
      " [ 1.  1.  1.  2.  3.  3.  0.  0.  0.  0.  0.  1.]]\n"
     ]
    }
   ],
   "source": [
    "a1 = RowAdd(a,2,1,-2)\n",
    "print(a1)"
   ]
  },
  {
   "cell_type": "code",
   "execution_count": 6,
   "metadata": {
    "colab": {
     "base_uri": "https://localhost:8080/"
    },
    "executionInfo": {
     "elapsed": 60,
     "status": "ok",
     "timestamp": 1713626180402,
     "user": {
      "displayName": "Dicky Saputra",
      "userId": "11534762090813325222"
     },
     "user_tz": -420
    },
    "id": "7Q_7zhTLe9_z",
    "outputId": "20c398cb-f14a-4c67-e35c-448e6506a44e"
   },
   "outputs": [
    {
     "name": "stdout",
     "output_type": "stream",
     "text": [
      "[[ 1.  2.  1.  1.  2.  1.  1.  0.  0.  0.  0.  0.]\n",
      " [ 0.  2. -3. -3. -1. -1.  0.  1. -2.  0.  0.  0.]\n",
      " [ 0. -1.  1.  2. -1.  0. -1.  0.  1.  0.  0.  0.]\n",
      " [ 1.  1.  2.  2.  1.  1.  0.  0.  0.  1.  0.  0.]\n",
      " [ 1.  2.  1.  2.  3.  1.  0.  0.  0.  0.  1.  0.]\n",
      " [ 1.  1.  1.  2.  3.  3.  0.  0.  0.  0.  0.  1.]]\n"
     ]
    }
   ],
   "source": [
    "a2 = RowAdd(a1,0,2,-1)\n",
    "print(a2)"
   ]
  },
  {
   "cell_type": "code",
   "execution_count": 7,
   "metadata": {
    "colab": {
     "base_uri": "https://localhost:8080/"
    },
    "executionInfo": {
     "elapsed": 57,
     "status": "ok",
     "timestamp": 1713626180403,
     "user": {
      "displayName": "Dicky Saputra",
      "userId": "11534762090813325222"
     },
     "user_tz": -420
    },
    "id": "aOvxNQs6fMOA",
    "outputId": "859830e2-e68e-4162-ace9-1220b9ce2cff"
   },
   "outputs": [
    {
     "name": "stdout",
     "output_type": "stream",
     "text": [
      "[[ 1.  2.  1.  1.  2.  1.  1.  0.  0.  0.  0.  0.]\n",
      " [ 0.  2. -3. -3. -1. -1.  0.  1. -2.  0.  0.  0.]\n",
      " [ 0. -1.  1.  2. -1.  0. -1.  0.  1.  0.  0.  0.]\n",
      " [ 0. -1.  1.  1. -1.  0. -1.  0.  0.  1.  0.  0.]\n",
      " [ 1.  2.  1.  2.  3.  1.  0.  0.  0.  0.  1.  0.]\n",
      " [ 1.  1.  1.  2.  3.  3.  0.  0.  0.  0.  0.  1.]]\n"
     ]
    }
   ],
   "source": [
    "a3 = RowAdd(a2,0,3,-1)\n",
    "print(a3)"
   ]
  },
  {
   "cell_type": "code",
   "execution_count": 8,
   "metadata": {
    "colab": {
     "base_uri": "https://localhost:8080/"
    },
    "executionInfo": {
     "elapsed": 50,
     "status": "ok",
     "timestamp": 1713626180403,
     "user": {
      "displayName": "Dicky Saputra",
      "userId": "11534762090813325222"
     },
     "user_tz": -420
    },
    "id": "eGgfeZMYfX5Q",
    "outputId": "38686e1b-2289-4ce7-cb36-f334803bda0c"
   },
   "outputs": [
    {
     "name": "stdout",
     "output_type": "stream",
     "text": [
      "[[ 1.  2.  1.  1.  2.  1.  1.  0.  0.  0.  0.  0.]\n",
      " [ 0.  2. -3. -3. -1. -1.  0.  1. -2.  0.  0.  0.]\n",
      " [ 0. -1.  1.  2. -1.  0. -1.  0.  1.  0.  0.  0.]\n",
      " [ 0. -1.  1.  1. -1.  0. -1.  0.  0.  1.  0.  0.]\n",
      " [ 0.  0.  0.  1.  1.  0. -1.  0.  0.  0.  1.  0.]\n",
      " [ 1.  1.  1.  2.  3.  3.  0.  0.  0.  0.  0.  1.]]\n"
     ]
    }
   ],
   "source": [
    "a4 = RowAdd(a3,0,4,-1)\n",
    "print(a4)"
   ]
  },
  {
   "cell_type": "code",
   "execution_count": 9,
   "metadata": {
    "colab": {
     "base_uri": "https://localhost:8080/"
    },
    "executionInfo": {
     "elapsed": 44,
     "status": "ok",
     "timestamp": 1713626180403,
     "user": {
      "displayName": "Dicky Saputra",
      "userId": "11534762090813325222"
     },
     "user_tz": -420
    },
    "id": "GjqEO6yLfk9w",
    "outputId": "c8d18a92-f535-4795-c638-b2469b6fdef0"
   },
   "outputs": [
    {
     "name": "stdout",
     "output_type": "stream",
     "text": [
      "[[ 1.  2.  1.  1.  2.  1.  1.  0.  0.  0.  0.  0.]\n",
      " [ 0.  2. -3. -3. -1. -1.  0.  1. -2.  0.  0.  0.]\n",
      " [ 0. -1.  1.  2. -1.  0. -1.  0.  1.  0.  0.  0.]\n",
      " [ 0. -1.  1.  1. -1.  0. -1.  0.  0.  1.  0.  0.]\n",
      " [ 0.  0.  0.  1.  1.  0. -1.  0.  0.  0.  1.  0.]\n",
      " [ 0. -1.  0.  1.  1.  2. -1.  0.  0.  0.  0.  1.]]\n"
     ]
    }
   ],
   "source": [
    "a5 = RowAdd(a4,0,5,-1)\n",
    "print(a5)"
   ]
  },
  {
   "cell_type": "code",
   "execution_count": 10,
   "metadata": {
    "colab": {
     "base_uri": "https://localhost:8080/"
    },
    "executionInfo": {
     "elapsed": 38,
     "status": "ok",
     "timestamp": 1713626180403,
     "user": {
      "displayName": "Dicky Saputra",
      "userId": "11534762090813325222"
     },
     "user_tz": -420
    },
    "id": "mxOYa0hpfzYy",
    "outputId": "f9e39532-bc27-45f0-aa49-bd84071bc669"
   },
   "outputs": [
    {
     "name": "stdout",
     "output_type": "stream",
     "text": [
      "[[ 1.   2.   1.   1.   2.   1.   1.   0.   0.   0.   0.   0. ]\n",
      " [ 0.   1.  -1.5 -1.5 -0.5 -0.5  0.   0.5 -1.   0.   0.   0. ]\n",
      " [ 0.  -1.   1.   2.  -1.   0.  -1.   0.   1.   0.   0.   0. ]\n",
      " [ 0.  -1.   1.   1.  -1.   0.  -1.   0.   0.   1.   0.   0. ]\n",
      " [ 0.   0.   0.   1.   1.   0.  -1.   0.   0.   0.   1.   0. ]\n",
      " [ 0.  -1.   0.   1.   1.   2.  -1.   0.   0.   0.   0.   1. ]]\n"
     ]
    }
   ],
   "source": [
    "a6 = RowScale(a5,1,1/2)\n",
    "print(a6)"
   ]
  },
  {
   "cell_type": "code",
   "execution_count": 11,
   "metadata": {
    "colab": {
     "base_uri": "https://localhost:8080/"
    },
    "executionInfo": {
     "elapsed": 35,
     "status": "ok",
     "timestamp": 1713626180403,
     "user": {
      "displayName": "Dicky Saputra",
      "userId": "11534762090813325222"
     },
     "user_tz": -420
    },
    "id": "Bqk-p16pg2L4",
    "outputId": "94a1494c-2c73-423a-ca8b-7175b590f7c8"
   },
   "outputs": [
    {
     "name": "stdout",
     "output_type": "stream",
     "text": [
      "[[ 1.   0.   4.   4.   3.   2.   1.  -1.   2.   0.   0.   0. ]\n",
      " [ 0.   1.  -1.5 -1.5 -0.5 -0.5  0.   0.5 -1.   0.   0.   0. ]\n",
      " [ 0.  -1.   1.   2.  -1.   0.  -1.   0.   1.   0.   0.   0. ]\n",
      " [ 0.  -1.   1.   1.  -1.   0.  -1.   0.   0.   1.   0.   0. ]\n",
      " [ 0.   0.   0.   1.   1.   0.  -1.   0.   0.   0.   1.   0. ]\n",
      " [ 0.  -1.   0.   1.   1.   2.  -1.   0.   0.   0.   0.   1. ]]\n"
     ]
    }
   ],
   "source": [
    "a7 = RowAdd(a6,1,0,-2)\n",
    "print(a7)"
   ]
  },
  {
   "cell_type": "code",
   "execution_count": 12,
   "metadata": {
    "colab": {
     "base_uri": "https://localhost:8080/"
    },
    "executionInfo": {
     "elapsed": 31,
     "status": "ok",
     "timestamp": 1713626180403,
     "user": {
      "displayName": "Dicky Saputra",
      "userId": "11534762090813325222"
     },
     "user_tz": -420
    },
    "id": "1sLqvnhwhLe2",
    "outputId": "67365743-924c-4550-94f7-45468f0729bd"
   },
   "outputs": [
    {
     "name": "stdout",
     "output_type": "stream",
     "text": [
      "[[ 1.   0.   4.   4.   3.   2.   1.  -1.   2.   0.   0.   0. ]\n",
      " [ 0.   1.  -1.5 -1.5 -0.5 -0.5  0.   0.5 -1.   0.   0.   0. ]\n",
      " [ 0.   0.  -0.5  0.5 -1.5 -0.5 -1.   0.5  0.   0.   0.   0. ]\n",
      " [ 0.  -1.   1.   1.  -1.   0.  -1.   0.   0.   1.   0.   0. ]\n",
      " [ 0.   0.   0.   1.   1.   0.  -1.   0.   0.   0.   1.   0. ]\n",
      " [ 0.  -1.   0.   1.   1.   2.  -1.   0.   0.   0.   0.   1. ]]\n"
     ]
    }
   ],
   "source": [
    "a8 = RowAdd(a7,1,2,1)\n",
    "print(a8)"
   ]
  },
  {
   "cell_type": "code",
   "execution_count": 13,
   "metadata": {
    "colab": {
     "base_uri": "https://localhost:8080/"
    },
    "executionInfo": {
     "elapsed": 29,
     "status": "ok",
     "timestamp": 1713626180404,
     "user": {
      "displayName": "Dicky Saputra",
      "userId": "11534762090813325222"
     },
     "user_tz": -420
    },
    "id": "VwYhWfC2hWou",
    "outputId": "1435692c-6315-49aa-ed86-b8799d288929"
   },
   "outputs": [
    {
     "name": "stdout",
     "output_type": "stream",
     "text": [
      "[[ 1.   0.   4.   4.   3.   2.   1.  -1.   2.   0.   0.   0. ]\n",
      " [ 0.   1.  -1.5 -1.5 -0.5 -0.5  0.   0.5 -1.   0.   0.   0. ]\n",
      " [ 0.   0.  -0.5  0.5 -1.5 -0.5 -1.   0.5  0.   0.   0.   0. ]\n",
      " [ 0.   0.  -0.5 -0.5 -1.5 -0.5 -1.   0.5 -1.   1.   0.   0. ]\n",
      " [ 0.   0.   0.   1.   1.   0.  -1.   0.   0.   0.   1.   0. ]\n",
      " [ 0.  -1.   0.   1.   1.   2.  -1.   0.   0.   0.   0.   1. ]]\n"
     ]
    }
   ],
   "source": [
    "a9 = RowAdd(a8,1,3,1)\n",
    "print(a9)"
   ]
  },
  {
   "cell_type": "code",
   "execution_count": 14,
   "metadata": {
    "colab": {
     "base_uri": "https://localhost:8080/"
    },
    "executionInfo": {
     "elapsed": 27,
     "status": "ok",
     "timestamp": 1713626180404,
     "user": {
      "displayName": "Dicky Saputra",
      "userId": "11534762090813325222"
     },
     "user_tz": -420
    },
    "id": "FgFtpiKQhd14",
    "outputId": "6cee7df0-86bd-491d-ed5f-efc9077a2c65"
   },
   "outputs": [
    {
     "name": "stdout",
     "output_type": "stream",
     "text": [
      "[[ 1.   0.   4.   4.   3.   2.   1.  -1.   2.   0.   0.   0. ]\n",
      " [ 0.   1.  -1.5 -1.5 -0.5 -0.5  0.   0.5 -1.   0.   0.   0. ]\n",
      " [ 0.   0.  -0.5  0.5 -1.5 -0.5 -1.   0.5  0.   0.   0.   0. ]\n",
      " [ 0.   0.  -0.5 -0.5 -1.5 -0.5 -1.   0.5 -1.   1.   0.   0. ]\n",
      " [ 0.   0.   0.   1.   1.   0.  -1.   0.   0.   0.   1.   0. ]\n",
      " [ 0.   0.  -1.5 -0.5  0.5  1.5 -1.   0.5 -1.   0.   0.   1. ]]\n"
     ]
    }
   ],
   "source": [
    "a10 = RowAdd(a9,1,5,1)\n",
    "print(a10)"
   ]
  },
  {
   "cell_type": "code",
   "execution_count": 15,
   "metadata": {
    "colab": {
     "base_uri": "https://localhost:8080/"
    },
    "executionInfo": {
     "elapsed": 23,
     "status": "ok",
     "timestamp": 1713626180404,
     "user": {
      "displayName": "Dicky Saputra",
      "userId": "11534762090813325222"
     },
     "user_tz": -420
    },
    "id": "dVmoPMzshq48",
    "outputId": "de7423d7-05c7-49ae-82b6-ba69422f68fb"
   },
   "outputs": [
    {
     "name": "stdout",
     "output_type": "stream",
     "text": [
      "[[ 1.   0.   4.   4.   3.   2.   1.  -1.   2.   0.   0.   0. ]\n",
      " [ 0.   1.  -1.5 -1.5 -0.5 -0.5  0.   0.5 -1.   0.   0.   0. ]\n",
      " [-0.  -0.   1.  -1.   3.   1.   2.  -1.  -0.  -0.  -0.  -0. ]\n",
      " [ 0.   0.  -0.5 -0.5 -1.5 -0.5 -1.   0.5 -1.   1.   0.   0. ]\n",
      " [ 0.   0.   0.   1.   1.   0.  -1.   0.   0.   0.   1.   0. ]\n",
      " [ 0.   0.  -1.5 -0.5  0.5  1.5 -1.   0.5 -1.   0.   0.   1. ]]\n"
     ]
    }
   ],
   "source": [
    "a11 = RowScale(a10,2,-2/1)\n",
    "print(a11)"
   ]
  },
  {
   "cell_type": "code",
   "execution_count": 16,
   "metadata": {
    "colab": {
     "base_uri": "https://localhost:8080/"
    },
    "executionInfo": {
     "elapsed": 20,
     "status": "ok",
     "timestamp": 1713626180404,
     "user": {
      "displayName": "Dicky Saputra",
      "userId": "11534762090813325222"
     },
     "user_tz": -420
    },
    "id": "ARDTVfOCiACn",
    "outputId": "8a94daac-2d09-41c1-d4da-98af7bc604d2"
   },
   "outputs": [
    {
     "name": "stdout",
     "output_type": "stream",
     "text": [
      "[[ 1.   0.   0.   8.  -9.  -2.  -7.   3.   2.   0.   0.   0. ]\n",
      " [ 0.   1.  -1.5 -1.5 -0.5 -0.5  0.   0.5 -1.   0.   0.   0. ]\n",
      " [-0.  -0.   1.  -1.   3.   1.   2.  -1.  -0.  -0.  -0.  -0. ]\n",
      " [ 0.   0.  -0.5 -0.5 -1.5 -0.5 -1.   0.5 -1.   1.   0.   0. ]\n",
      " [ 0.   0.   0.   1.   1.   0.  -1.   0.   0.   0.   1.   0. ]\n",
      " [ 0.   0.  -1.5 -0.5  0.5  1.5 -1.   0.5 -1.   0.   0.   1. ]]\n"
     ]
    }
   ],
   "source": [
    "a12 = RowAdd(a11,2,0,-4)\n",
    "print(a12)"
   ]
  },
  {
   "cell_type": "code",
   "execution_count": 17,
   "metadata": {
    "colab": {
     "base_uri": "https://localhost:8080/"
    },
    "executionInfo": {
     "elapsed": 17,
     "status": "ok",
     "timestamp": 1713626180404,
     "user": {
      "displayName": "Dicky Saputra",
      "userId": "11534762090813325222"
     },
     "user_tz": -420
    },
    "id": "4FXp8oSZiO-_",
    "outputId": "8f782692-b7f1-4534-dbaa-9801c4f2a179"
   },
   "outputs": [
    {
     "name": "stdout",
     "output_type": "stream",
     "text": [
      "[[ 1.   0.   0.   8.  -9.  -2.  -7.   3.   2.   0.   0.   0. ]\n",
      " [ 0.   1.   0.  -1.  -1.  -2.   1.   0.   0.   0.   0.  -1. ]\n",
      " [-0.  -0.   1.  -1.   3.   1.   2.  -1.  -0.  -0.  -0.  -0. ]\n",
      " [ 0.   0.  -0.5 -0.5 -1.5 -0.5 -1.   0.5 -1.   1.   0.   0. ]\n",
      " [ 0.   0.   0.   1.   1.   0.  -1.   0.   0.   0.   1.   0. ]\n",
      " [ 0.   0.  -1.5 -0.5  0.5  1.5 -1.   0.5 -1.   0.   0.   1. ]]\n"
     ]
    }
   ],
   "source": [
    "a13= RowAdd(a12,5,1,-1)\n",
    "print(a13)"
   ]
  },
  {
   "cell_type": "code",
   "execution_count": 18,
   "metadata": {
    "colab": {
     "base_uri": "https://localhost:8080/"
    },
    "executionInfo": {
     "elapsed": 550,
     "status": "ok",
     "timestamp": 1713626180941,
     "user": {
      "displayName": "Dicky Saputra",
      "userId": "11534762090813325222"
     },
     "user_tz": -420
    },
    "id": "rjwxcUDRjRfS",
    "outputId": "19db684f-625c-4872-c17a-89aba85782a6"
   },
   "outputs": [
    {
     "name": "stdout",
     "output_type": "stream",
     "text": [
      "[[ 1.   0.   0.   8.  -9.  -2.  -7.   3.   2.   0.   0.   0. ]\n",
      " [ 0.   1.   0.  -1.  -1.  -2.   1.   0.   0.   0.   0.  -1. ]\n",
      " [-0.  -0.   1.  -1.   3.   1.   2.  -1.  -0.  -0.  -0.  -0. ]\n",
      " [-0.  -0.   1.   1.   3.   1.   2.  -1.   2.  -2.  -0.  -0. ]\n",
      " [ 0.   0.   0.   1.   1.   0.  -1.   0.   0.   0.   1.   0. ]\n",
      " [ 0.   0.  -1.5 -0.5  0.5  1.5 -1.   0.5 -1.   0.   0.   1. ]]\n"
     ]
    }
   ],
   "source": [
    "a14= RowScale(a13,3,-2/1)\n",
    "print(a14)"
   ]
  },
  {
   "cell_type": "code",
   "execution_count": 19,
   "metadata": {
    "colab": {
     "base_uri": "https://localhost:8080/"
    },
    "executionInfo": {
     "elapsed": 70,
     "status": "ok",
     "timestamp": 1713626180941,
     "user": {
      "displayName": "Dicky Saputra",
      "userId": "11534762090813325222"
     },
     "user_tz": -420
    },
    "id": "H7XPSO8pkexJ",
    "outputId": "9a200468-a880-4781-d8b1-12949bfec052"
   },
   "outputs": [
    {
     "name": "stdout",
     "output_type": "stream",
     "text": [
      "[[ 1.   0.   0.   8.  -9.  -2.  -7.   3.   2.   0.   0.   0. ]\n",
      " [ 0.   1.   0.  -1.  -1.  -2.   1.   0.   0.   0.   0.  -1. ]\n",
      " [-0.  -0.   1.  -1.   3.   1.   2.  -1.  -0.  -0.  -0.  -0. ]\n",
      " [ 0.   0.   0.   2.   0.   0.   0.   0.   2.  -2.   0.   0. ]\n",
      " [ 0.   0.   0.   1.   1.   0.  -1.   0.   0.   0.   1.   0. ]\n",
      " [ 0.   0.  -1.5 -0.5  0.5  1.5 -1.   0.5 -1.   0.   0.   1. ]]\n"
     ]
    }
   ],
   "source": [
    "a15=RowAdd(a14,2,3,-1)\n",
    "print(a15)"
   ]
  },
  {
   "cell_type": "code",
   "execution_count": 20,
   "metadata": {
    "colab": {
     "base_uri": "https://localhost:8080/"
    },
    "executionInfo": {
     "elapsed": 67,
     "status": "ok",
     "timestamp": 1713626180941,
     "user": {
      "displayName": "Dicky Saputra",
      "userId": "11534762090813325222"
     },
     "user_tz": -420
    },
    "id": "0eOTZOSSksGT",
    "outputId": "18f6ad69-b005-4e93-c3db-0b05a6157e14"
   },
   "outputs": [
    {
     "name": "stdout",
     "output_type": "stream",
     "text": [
      "[[ 1.  0.  0.  8. -9. -2. -7.  3.  2.  0.  0.  0.]\n",
      " [ 0.  1.  0. -1. -1. -2.  1.  0.  0.  0.  0. -1.]\n",
      " [-0. -0.  1. -1.  3.  1.  2. -1. -0. -0. -0. -0.]\n",
      " [ 0.  0.  0.  2.  0.  0.  0.  0.  2. -2.  0.  0.]\n",
      " [ 0.  0.  0.  1.  1.  0. -1.  0.  0.  0.  1.  0.]\n",
      " [-0. -0.  3.  1. -1. -3.  2. -1.  2. -0. -0. -2.]]\n"
     ]
    }
   ],
   "source": [
    "a16= RowScale(a15,5,-2/1)\n",
    "print(a16)"
   ]
  },
  {
   "cell_type": "code",
   "execution_count": 21,
   "metadata": {
    "colab": {
     "base_uri": "https://localhost:8080/"
    },
    "executionInfo": {
     "elapsed": 65,
     "status": "ok",
     "timestamp": 1713626180942,
     "user": {
      "displayName": "Dicky Saputra",
      "userId": "11534762090813325222"
     },
     "user_tz": -420
    },
    "id": "GFjdncx_Ug28",
    "outputId": "48438dd5-033b-4619-8c97-084a206c8a43"
   },
   "outputs": [
    {
     "name": "stdout",
     "output_type": "stream",
     "text": [
      "[[  1.   0.   0.   8.  -9.  -2.  -7.   3.   2.   0.   0.   0.]\n",
      " [  0.   1.   0.  -1.  -1.  -2.   1.   0.   0.   0.   0.  -1.]\n",
      " [ -0.  -0.   1.  -1.   3.   1.   2.  -1.  -0.  -0.  -0.  -0.]\n",
      " [  0.   0.   0.   2.   0.   0.   0.   0.   2.  -2.   0.   0.]\n",
      " [  0.   0.   0.   1.   1.   0.  -1.   0.   0.   0.   1.   0.]\n",
      " [  0.   0.   0.   4. -10.  -6.  -4.   2.   2.   0.   0.  -2.]]\n"
     ]
    }
   ],
   "source": [
    "a17 = RowAdd(a16,2,5,-3)\n",
    "print(a17)"
   ]
  },
  {
   "cell_type": "code",
   "execution_count": 22,
   "metadata": {
    "colab": {
     "base_uri": "https://localhost:8080/"
    },
    "executionInfo": {
     "elapsed": 62,
     "status": "ok",
     "timestamp": 1713626180942,
     "user": {
      "displayName": "Dicky Saputra",
      "userId": "11534762090813325222"
     },
     "user_tz": -420
    },
    "id": "63_Yl2SLU_cJ",
    "outputId": "f53f1d58-7bb9-40a9-b049-95f83d4b8481"
   },
   "outputs": [
    {
     "name": "stdout",
     "output_type": "stream",
     "text": [
      "[[  1.   0.   0.   8.  -9.  -2.  -7.   3.   2.   0.   0.   0.]\n",
      " [  0.   1.   0.  -1.  -1.  -2.   1.   0.   0.   0.   0.  -1.]\n",
      " [ -0.  -0.   1.  -1.   3.   1.   2.  -1.  -0.  -0.  -0.  -0.]\n",
      " [  0.   0.   0.   1.   0.   0.   0.   0.   1.  -1.   0.   0.]\n",
      " [  0.   0.   0.   1.   1.   0.  -1.   0.   0.   0.   1.   0.]\n",
      " [  0.   0.   0.   4. -10.  -6.  -4.   2.   2.   0.   0.  -2.]]\n"
     ]
    }
   ],
   "source": [
    "a18 = RowScale(a17,3,1/2)\n",
    "print(a18)"
   ]
  },
  {
   "cell_type": "code",
   "execution_count": 23,
   "metadata": {
    "colab": {
     "base_uri": "https://localhost:8080/"
    },
    "executionInfo": {
     "elapsed": 57,
     "status": "ok",
     "timestamp": 1713626180942,
     "user": {
      "displayName": "Dicky Saputra",
      "userId": "11534762090813325222"
     },
     "user_tz": -420
    },
    "id": "wK4VUBtDVgWg",
    "outputId": "6fd55c1e-bd2e-488d-aa9c-9f52cb883736"
   },
   "outputs": [
    {
     "name": "stdout",
     "output_type": "stream",
     "text": [
      "[[  1.   0.   0.   0.  11.  10.   1.  -1.  -2.   0.   0.   4.]\n",
      " [  0.   1.   0.  -1.  -1.  -2.   1.   0.   0.   0.   0.  -1.]\n",
      " [ -0.  -0.   1.  -1.   3.   1.   2.  -1.  -0.  -0.  -0.  -0.]\n",
      " [  0.   0.   0.   1.   0.   0.   0.   0.   1.  -1.   0.   0.]\n",
      " [  0.   0.   0.   1.   1.   0.  -1.   0.   0.   0.   1.   0.]\n",
      " [  0.   0.   0.   4. -10.  -6.  -4.   2.   2.   0.   0.  -2.]]\n"
     ]
    }
   ],
   "source": [
    "a19= RowAdd(a18,5,0,-2)\n",
    "print(a19)"
   ]
  },
  {
   "cell_type": "code",
   "execution_count": 24,
   "metadata": {
    "colab": {
     "base_uri": "https://localhost:8080/"
    },
    "executionInfo": {
     "elapsed": 54,
     "status": "ok",
     "timestamp": 1713626180942,
     "user": {
      "displayName": "Dicky Saputra",
      "userId": "11534762090813325222"
     },
     "user_tz": -420
    },
    "id": "-1l9UjWIVxAm",
    "outputId": "9d9ef6b4-386d-4aef-d356-1ae266fdf633"
   },
   "outputs": [
    {
     "name": "stdout",
     "output_type": "stream",
     "text": [
      "[[  1.   0.   0.   0.  11.  10.   1.  -1.  -2.   0.   0.   4.]\n",
      " [  0.   1.   0.  -1.  -1.  -2.   1.   0.   0.   0.   0.  -1.]\n",
      " [ -0.  -0.   1.  -1.   3.   1.   2.  -1.  -0.  -0.  -0.  -0.]\n",
      " [  0.   0.   0.   1.   0.   0.   0.   0.   1.  -1.   0.   0.]\n",
      " [  0.   0.   0.   1.   1.   0.  -1.   0.   0.   0.   1.   0.]\n",
      " [  0.   0.   0.   0. -10.  -6.  -4.   2.  -2.   4.   0.  -2.]]\n"
     ]
    }
   ],
   "source": [
    "a20 = RowAdd(a19,3,5,-4)\n",
    "print(a20)"
   ]
  },
  {
   "cell_type": "code",
   "execution_count": 25,
   "metadata": {
    "colab": {
     "base_uri": "https://localhost:8080/"
    },
    "executionInfo": {
     "elapsed": 51,
     "status": "ok",
     "timestamp": 1713626180942,
     "user": {
      "displayName": "Dicky Saputra",
      "userId": "11534762090813325222"
     },
     "user_tz": -420
    },
    "id": "zOMcb0o1WCaK",
    "outputId": "34f00b30-bac4-40d1-e07e-4b7906431ba4"
   },
   "outputs": [
    {
     "name": "stdout",
     "output_type": "stream",
     "text": [
      "[[  1.   0.   0.   0.  11.  10.   1.  -1.  -2.   0.   0.   4.]\n",
      " [  0.   1.   0.   0.  -1.  -2.   1.   0.   1.  -1.   0.  -1.]\n",
      " [ -0.  -0.   1.  -1.   3.   1.   2.  -1.  -0.  -0.  -0.  -0.]\n",
      " [  0.   0.   0.   1.   0.   0.   0.   0.   1.  -1.   0.   0.]\n",
      " [  0.   0.   0.   1.   1.   0.  -1.   0.   0.   0.   1.   0.]\n",
      " [  0.   0.   0.   0. -10.  -6.  -4.   2.  -2.   4.   0.  -2.]]\n"
     ]
    }
   ],
   "source": [
    "a21 = RowAdd(a20,3,1,1)\n",
    "print(a21)"
   ]
  },
  {
   "cell_type": "code",
   "execution_count": 26,
   "metadata": {
    "colab": {
     "base_uri": "https://localhost:8080/"
    },
    "executionInfo": {
     "elapsed": 48,
     "status": "ok",
     "timestamp": 1713626180942,
     "user": {
      "displayName": "Dicky Saputra",
      "userId": "11534762090813325222"
     },
     "user_tz": -420
    },
    "id": "2DI0bscGWLEd",
    "outputId": "be58d73e-b47d-4bb1-c993-7e9e459042bd"
   },
   "outputs": [
    {
     "name": "stdout",
     "output_type": "stream",
     "text": [
      "[[  1.   0.   0.   0.  11.  10.   1.  -1.  -2.   0.   0.   4.]\n",
      " [  0.   1.   0.   0.  -1.  -2.   1.   0.   1.  -1.   0.  -1.]\n",
      " [  0.   0.   1.   0.   3.   1.   2.  -1.   1.  -1.   0.   0.]\n",
      " [  0.   0.   0.   1.   0.   0.   0.   0.   1.  -1.   0.   0.]\n",
      " [  0.   0.   0.   1.   1.   0.  -1.   0.   0.   0.   1.   0.]\n",
      " [  0.   0.   0.   0. -10.  -6.  -4.   2.  -2.   4.   0.  -2.]]\n"
     ]
    }
   ],
   "source": [
    "a22 = RowAdd(a21,3,2,1)\n",
    "print(a22)"
   ]
  },
  {
   "cell_type": "code",
   "execution_count": 27,
   "metadata": {
    "colab": {
     "base_uri": "https://localhost:8080/"
    },
    "executionInfo": {
     "elapsed": 44,
     "status": "ok",
     "timestamp": 1713626180942,
     "user": {
      "displayName": "Dicky Saputra",
      "userId": "11534762090813325222"
     },
     "user_tz": -420
    },
    "id": "934Wt6seWQ_h",
    "outputId": "084ce9d3-b19d-4923-d820-abdac9774cd8"
   },
   "outputs": [
    {
     "name": "stdout",
     "output_type": "stream",
     "text": [
      "[[  1.   0.   0.   0.  11.  10.   1.  -1.  -2.   0.   0.   4.]\n",
      " [  0.   1.   0.   0.  -1.  -2.   1.   0.   1.  -1.   0.  -1.]\n",
      " [  0.   0.   1.   0.   3.   1.   2.  -1.   1.  -1.   0.   0.]\n",
      " [  0.   0.   0.   1.   0.   0.   0.   0.   1.  -1.   0.   0.]\n",
      " [  0.   0.   0.   0.   1.   0.  -1.   0.  -1.   1.   1.   0.]\n",
      " [  0.   0.   0.   0. -10.  -6.  -4.   2.  -2.   4.   0.  -2.]]\n"
     ]
    }
   ],
   "source": [
    "a23 = RowAdd(a22,3,4,-1)\n",
    "print(a23)"
   ]
  },
  {
   "cell_type": "code",
   "execution_count": 28,
   "metadata": {
    "colab": {
     "base_uri": "https://localhost:8080/"
    },
    "executionInfo": {
     "elapsed": 41,
     "status": "ok",
     "timestamp": 1713626180942,
     "user": {
      "displayName": "Dicky Saputra",
      "userId": "11534762090813325222"
     },
     "user_tz": -420
    },
    "id": "HQt7r24jXFcE",
    "outputId": "f3262b30-8c6c-40eb-f3b2-ae974c878373"
   },
   "outputs": [
    {
     "name": "stdout",
     "output_type": "stream",
     "text": [
      "[[  1.   0.   0.   0.   0.  10.  12.  -1.   9. -11. -11.   4.]\n",
      " [  0.   1.   0.   0.  -1.  -2.   1.   0.   1.  -1.   0.  -1.]\n",
      " [  0.   0.   1.   0.   3.   1.   2.  -1.   1.  -1.   0.   0.]\n",
      " [  0.   0.   0.   1.   0.   0.   0.   0.   1.  -1.   0.   0.]\n",
      " [  0.   0.   0.   0.   1.   0.  -1.   0.  -1.   1.   1.   0.]\n",
      " [  0.   0.   0.   0. -10.  -6.  -4.   2.  -2.   4.   0.  -2.]]\n"
     ]
    }
   ],
   "source": [
    "a24 = RowAdd(a23,4,0,-11)\n",
    "print(a24)"
   ]
  },
  {
   "cell_type": "code",
   "execution_count": 29,
   "metadata": {
    "colab": {
     "base_uri": "https://localhost:8080/"
    },
    "executionInfo": {
     "elapsed": 38,
     "status": "ok",
     "timestamp": 1713626180942,
     "user": {
      "displayName": "Dicky Saputra",
      "userId": "11534762090813325222"
     },
     "user_tz": -420
    },
    "id": "qW97bfWTXVqH",
    "outputId": "53845c6d-3525-4136-f779-8b3802d3596c"
   },
   "outputs": [
    {
     "name": "stdout",
     "output_type": "stream",
     "text": [
      "[[  1.   0.   0.   0.   0.  10.  12.  -1.   9. -11. -11.   4.]\n",
      " [  0.   1.   0.   0.   0.  -2.   0.   0.   0.   0.   1.  -1.]\n",
      " [  0.   0.   1.   0.   3.   1.   2.  -1.   1.  -1.   0.   0.]\n",
      " [  0.   0.   0.   1.   0.   0.   0.   0.   1.  -1.   0.   0.]\n",
      " [  0.   0.   0.   0.   1.   0.  -1.   0.  -1.   1.   1.   0.]\n",
      " [  0.   0.   0.   0. -10.  -6.  -4.   2.  -2.   4.   0.  -2.]]\n"
     ]
    }
   ],
   "source": [
    "a25 = RowAdd(a24,4,1,1)\n",
    "print(a25)"
   ]
  },
  {
   "cell_type": "code",
   "execution_count": 30,
   "metadata": {
    "colab": {
     "base_uri": "https://localhost:8080/"
    },
    "executionInfo": {
     "elapsed": 36,
     "status": "ok",
     "timestamp": 1713626180942,
     "user": {
      "displayName": "Dicky Saputra",
      "userId": "11534762090813325222"
     },
     "user_tz": -420
    },
    "id": "Kxo6imavXeuR",
    "outputId": "4f6be1fc-a863-4115-d9a3-25de92ca832d"
   },
   "outputs": [
    {
     "name": "stdout",
     "output_type": "stream",
     "text": [
      "[[  1.   0.   0.   0.   0.  10.  12.  -1.   9. -11. -11.   4.]\n",
      " [  0.   1.   0.   0.   0.  -2.   0.   0.   0.   0.   1.  -1.]\n",
      " [  0.   0.   1.   0.   0.   1.   5.  -1.   4.  -4.  -3.   0.]\n",
      " [  0.   0.   0.   1.   0.   0.   0.   0.   1.  -1.   0.   0.]\n",
      " [  0.   0.   0.   0.   1.   0.  -1.   0.  -1.   1.   1.   0.]\n",
      " [  0.   0.   0.   0. -10.  -6.  -4.   2.  -2.   4.   0.  -2.]]\n"
     ]
    }
   ],
   "source": [
    "a26= RowAdd(a25,4,2,-3)\n",
    "print(a26)"
   ]
  },
  {
   "cell_type": "code",
   "execution_count": 31,
   "metadata": {
    "colab": {
     "base_uri": "https://localhost:8080/"
    },
    "executionInfo": {
     "elapsed": 33,
     "status": "ok",
     "timestamp": 1713626180943,
     "user": {
      "displayName": "Dicky Saputra",
      "userId": "11534762090813325222"
     },
     "user_tz": -420
    },
    "id": "IU6PI7FqXouI",
    "outputId": "0a4015ea-27d8-4f4b-cbd5-7089dd63f318"
   },
   "outputs": [
    {
     "name": "stdout",
     "output_type": "stream",
     "text": [
      "[[  1.   0.   0.   0.   0.  10.  12.  -1.   9. -11. -11.   4.]\n",
      " [  0.   1.   0.   0.   0.  -2.   0.   0.   0.   0.   1.  -1.]\n",
      " [  0.   0.   1.   0.   0.   1.   5.  -1.   4.  -4.  -3.   0.]\n",
      " [  0.   0.   0.   1.   0.   0.   0.   0.   1.  -1.   0.   0.]\n",
      " [  0.   0.   0.   0.   1.   0.  -1.   0.  -1.   1.   1.   0.]\n",
      " [  0.   0.   0.   0.   0.  -6. -14.   2. -12.  14.  10.  -2.]]\n"
     ]
    }
   ],
   "source": [
    "a27 = RowAdd(a26,4,5,10)\n",
    "print(a27)"
   ]
  },
  {
   "cell_type": "code",
   "execution_count": 32,
   "metadata": {
    "colab": {
     "base_uri": "https://localhost:8080/"
    },
    "executionInfo": {
     "elapsed": 31,
     "status": "ok",
     "timestamp": 1713626180943,
     "user": {
      "displayName": "Dicky Saputra",
      "userId": "11534762090813325222"
     },
     "user_tz": -420
    },
    "id": "Vj5BoRdtXzzQ",
    "outputId": "a447e3df-6061-42f5-d9d9-a6a07564cc8a"
   },
   "outputs": [
    {
     "name": "stdout",
     "output_type": "stream",
     "text": [
      "[[  1.           0.           0.           0.           0.\n",
      "    0.         -11.33333333   2.33333333 -11.          12.33333333\n",
      "    5.66666667   0.66666667]\n",
      " [  0.           1.           0.           0.           0.\n",
      "   -2.           0.           0.           0.           0.\n",
      "    1.          -1.        ]\n",
      " [  0.           0.           1.           0.           0.\n",
      "    1.           5.          -1.           4.          -4.\n",
      "   -3.           0.        ]\n",
      " [  0.           0.           0.           1.           0.\n",
      "    0.           0.           0.           1.          -1.\n",
      "    0.           0.        ]\n",
      " [  0.           0.           0.           0.           1.\n",
      "    0.          -1.           0.          -1.           1.\n",
      "    1.           0.        ]\n",
      " [  0.           0.           0.           0.           0.\n",
      "   -6.         -14.           2.         -12.          14.\n",
      "   10.          -2.        ]]\n"
     ]
    }
   ],
   "source": [
    "a28 = RowAdd(a27,5,0,5/3)\n",
    "# a = RowAdd(a27,5,0,5/3)\n",
    "print(a28)\n",
    "# print(a)"
   ]
  },
  {
   "cell_type": "code",
   "execution_count": 33,
   "metadata": {
    "colab": {
     "base_uri": "https://localhost:8080/"
    },
    "executionInfo": {
     "elapsed": 27,
     "status": "ok",
     "timestamp": 1713626180943,
     "user": {
      "displayName": "Dicky Saputra",
      "userId": "11534762090813325222"
     },
     "user_tz": -420
    },
    "id": "AcbNScKgZL0v",
    "outputId": "4260ed1e-e61c-4a12-8479-f2c4026bf68f"
   },
   "outputs": [
    {
     "name": "stdout",
     "output_type": "stream",
     "text": [
      "[[  1.           0.           0.           0.           0.\n",
      "    0.         -11.33333333   2.33333333 -11.          12.33333333\n",
      "    5.66666667   0.66666667]\n",
      " [  0.           1.           0.           0.           0.\n",
      "    0.           4.66666667  -0.66666667   4.          -4.66666667\n",
      "   -2.33333333  -0.33333333]\n",
      " [  0.           0.           1.           0.           0.\n",
      "    1.           5.          -1.           4.          -4.\n",
      "   -3.           0.        ]\n",
      " [  0.           0.           0.           1.           0.\n",
      "    0.           0.           0.           1.          -1.\n",
      "    0.           0.        ]\n",
      " [  0.           0.           0.           0.           1.\n",
      "    0.          -1.           0.          -1.           1.\n",
      "    1.           0.        ]\n",
      " [  0.           0.           0.           0.           0.\n",
      "   -6.         -14.           2.         -12.          14.\n",
      "   10.          -2.        ]]\n"
     ]
    }
   ],
   "source": [
    "a29= RowAdd(a28,5,1,-1/3)\n",
    "# b = RowAdd(a28,5,1,-1/3)\n",
    "print(a29)\n",
    "# print(b)"
   ]
  },
  {
   "cell_type": "code",
   "execution_count": 34,
   "metadata": {
    "colab": {
     "base_uri": "https://localhost:8080/"
    },
    "executionInfo": {
     "elapsed": 24,
     "status": "ok",
     "timestamp": 1713626180943,
     "user": {
      "displayName": "Dicky Saputra",
      "userId": "11534762090813325222"
     },
     "user_tz": -420
    },
    "id": "e4_BUpkpaNhQ",
    "outputId": "38ecd3d7-2bf6-42f6-ac51-87a9a67c7203"
   },
   "outputs": [
    {
     "name": "stdout",
     "output_type": "stream",
     "text": [
      "[[  1.           0.           0.           0.           0.\n",
      "    0.         -11.33333333   2.33333333 -11.          12.33333333\n",
      "    5.66666667   0.66666667]\n",
      " [  0.           1.           0.           0.           0.\n",
      "    0.           4.66666667  -0.66666667   4.          -4.66666667\n",
      "   -2.33333333  -0.33333333]\n",
      " [  0.           0.           1.           0.           0.\n",
      "    1.           5.          -1.           4.          -4.\n",
      "   -3.           0.        ]\n",
      " [  0.           0.           0.           1.           0.\n",
      "    0.           0.           0.           1.          -1.\n",
      "    0.           0.        ]\n",
      " [  0.           0.           0.           0.           1.\n",
      "    0.          -1.           0.          -1.           1.\n",
      "    1.           0.        ]\n",
      " [ -0.          -0.          -0.          -0.          -0.\n",
      "    1.           2.33333333  -0.33333333   2.          -2.33333333\n",
      "   -1.66666667   0.33333333]]\n"
     ]
    }
   ],
   "source": [
    "a30= RowScale(a29,5,-1/6)\n",
    "# c = RowScale(a29,5,-1/6)\n",
    "print(a30)\n",
    "# print(c)"
   ]
  },
  {
   "cell_type": "code",
   "execution_count": 35,
   "metadata": {
    "colab": {
     "base_uri": "https://localhost:8080/"
    },
    "executionInfo": {
     "elapsed": 21,
     "status": "ok",
     "timestamp": 1713626180943,
     "user": {
      "displayName": "Dicky Saputra",
      "userId": "11534762090813325222"
     },
     "user_tz": -420
    },
    "id": "Rplleqdtb81_",
    "outputId": "d95c3019-4530-4969-87b9-d9f1a2822fd7"
   },
   "outputs": [
    {
     "name": "stdout",
     "output_type": "stream",
     "text": [
      "[[  1.           0.           0.           0.           0.\n",
      "    0.         -11.33333333   2.33333333 -11.          12.33333333\n",
      "    5.66666667   0.66666667]\n",
      " [  0.           1.           0.           0.           0.\n",
      "    0.           4.66666667  -0.66666667   4.          -4.66666667\n",
      "   -2.33333333  -0.33333333]\n",
      " [  0.           0.           1.           0.           0.\n",
      "    2.           7.33333333  -1.33333333   6.          -6.33333333\n",
      "   -4.66666667   0.33333333]\n",
      " [  0.           0.           0.           1.           0.\n",
      "    0.           0.           0.           1.          -1.\n",
      "    0.           0.        ]\n",
      " [  0.           0.           0.           0.           1.\n",
      "    0.          -1.           0.          -1.           1.\n",
      "    1.           0.        ]\n",
      " [ -0.          -0.          -0.          -0.          -0.\n",
      "    1.           2.33333333  -0.33333333   2.          -2.33333333\n",
      "   -1.66666667   0.33333333]]\n"
     ]
    }
   ],
   "source": [
    "a31 = RowAdd(a30,5,2,1)\n",
    "print(a31)"
   ]
  },
  {
   "cell_type": "code",
   "execution_count": 36,
   "metadata": {
    "colab": {
     "base_uri": "https://localhost:8080/"
    },
    "executionInfo": {
     "elapsed": 18,
     "status": "ok",
     "timestamp": 1713626180943,
     "user": {
      "displayName": "Dicky Saputra",
      "userId": "11534762090813325222"
     },
     "user_tz": -420
    },
    "id": "NqsA4Aoqcihe",
    "outputId": "4f5e5809-8ef8-469c-9ccc-0c9ac075f300"
   },
   "outputs": [
    {
     "name": "stdout",
     "output_type": "stream",
     "text": [
      "[[  1.           0.           0.           0.           0.\n",
      "    0.         -11.33333333   2.33333333 -11.          12.33333333\n",
      "    5.66666667   0.66666667]\n",
      " [  0.           1.           0.           0.           0.\n",
      "    0.           4.66666667  -0.66666667   4.          -4.66666667\n",
      "   -2.33333333  -0.33333333]\n",
      " [  0.           0.           1.           0.           0.\n",
      "    0.           2.66666667  -0.66666667   2.          -1.66666667\n",
      "   -1.33333333  -0.33333333]\n",
      " [  0.           0.           0.           1.           0.\n",
      "    0.           0.           0.           1.          -1.\n",
      "    0.           0.        ]\n",
      " [  0.           0.           0.           0.           1.\n",
      "    0.          -1.           0.          -1.           1.\n",
      "    1.           0.        ]\n",
      " [ -0.          -0.          -0.          -0.          -0.\n",
      "    1.           2.33333333  -0.33333333   2.          -2.33333333\n",
      "   -1.66666667   0.33333333]]"
     ]
    },
    {
     "name": "stdout",
     "output_type": "stream",
     "text": [
      "\n"
     ]
    }
   ],
   "source": [
    "a32 = RowAdd(a31,5,2,-2)\n",
    "print(a32)"
   ]
  },
  {
   "cell_type": "code",
   "execution_count": 37,
   "metadata": {
    "colab": {
     "base_uri": "https://localhost:8080/"
    },
    "executionInfo": {
     "elapsed": 15,
     "status": "ok",
     "timestamp": 1713626180943,
     "user": {
      "displayName": "Dicky Saputra",
      "userId": "11534762090813325222"
     },
     "user_tz": -420
    },
    "id": "SsVqvVeUc16E",
    "outputId": "be805615-e066-4dc6-d9da-318daca0e980"
   },
   "outputs": [
    {
     "name": "stdout",
     "output_type": "stream",
     "text": [
      "[[1.00000004]\n",
      " [2.00000004]\n",
      " [1.00000004]\n",
      " [3.        ]\n",
      " [1.        ]\n",
      " [1.99999996]]\n"
     ]
    }
   ],
   "source": [
    "hasil = np.array([\n",
    "    [-11.33333333,2.33333333,-11,12.33333333,5.66666667,0.66666667],\n",
    "    [4.66666667,-0.66666667,4,-4.66666667,-2.33333333,-0.33333333],\n",
    "    [2.66666667,-0.66666667,2,-1.66666667,-1.33333333,-0.33333333],\n",
    "    [0,0,1,-1,0,0],\n",
    "    [-1,0,-1,1,1,0],\n",
    "    [2.33333333,-0.33333333,2,-2.33333333,-1.66666667,0.33333333]\n",
    "    ])\n",
    "\n",
    "konstanta = np.array([\n",
    "    [13],\n",
    "    [23],\n",
    "    [17],\n",
    "    [14],\n",
    "    [17],\n",
    "    [19]\n",
    "])\n",
    "# print(hasil)\n",
    "bukti = hasil@konstanta\n",
    "print(bukti)"
   ]
  }
 ],
 "metadata": {
  "colab": {
   "authorship_tag": "ABX9TyO73D344DiQXVYJGqS7+qkC",
   "provenance": []
  },
  "kernelspec": {
   "display_name": "Python 3",
   "name": "python3"
  },
  "language_info": {
   "codemirror_mode": {
    "name": "ipython",
    "version": 3
   },
   "file_extension": ".py",
   "mimetype": "text/x-python",
   "name": "python",
   "nbconvert_exporter": "python",
   "pygments_lexer": "ipython3",
   "version": "3.10.13"
  }
 },
 "nbformat": 4,
 "nbformat_minor": 0
}