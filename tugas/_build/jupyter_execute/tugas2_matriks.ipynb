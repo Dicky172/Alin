{
 "cells": [
  {
   "cell_type": "markdown",
   "metadata": {
    "id": "0IbIG5EAKrKz"
   },
   "source": [
    "# Tugas 2 Aljabar Matriks\n",
    "\n",
    "tidak mengerjakan tidak boleh masuk\n",
    "\n",
    "-berikan penjelasan apa itu matriks\n",
    "-operasi matriks\n",
    "-penjumlahan,perkalian,pengurangan, transpose matriks\n",
    "-membuat program untuk mengalikan matriks a dan b tanpa @\n",
    "\n",
    "Buat matriks A dan B dengan ordo 3x3 dan matriks C dengan ordo 2x3"
   ]
  },
  {
   "cell_type": "markdown",
   "metadata": {
    "id": "Hyf7MLqJKzbx"
   },
   "source": [
    "## Apa itu matriks?\n",
    "\n",
    "Matriks adalah kumpulan bilangan simbol atau ekspresi yang di sebut dengan elemen, yang membentuk persegi atau persegi panjang yang di susun menurut baris dan kolom, elemen yang sejajar horizontal di sebut dengan baris matriks, dan elemen yang sejajar vertikal di sebut dengan kolom matriks\n",
    "\n",
    "matriks biasa di namai dengan huruf kapital misalnya (A,B,C) dan seterusnya, selain itu indeks dalam matriks di sebut atau di namai dengan huruf non kapital misalnya (a,b,c) dan seterusnya.\n",
    "\n",
    "misalnya matriks A =\n",
    "$$\n",
    "[[1,2,3]\\\\\n",
    "[4,5,6]\\\\\n",
    "[-1,-2,-3]]\n",
    "$$\n",
    "misalnya:\n",
    "$$\n",
    "[1,2,3]\\\\\n",
    "$$\n",
    "adalah baris pada matriks\n",
    "dan juga:\n",
    "$$\n",
    "[[1,\\\\\n",
    "[4,\\\\\n",
    "[-1,\n",
    "$$\n",
    "itu di sebut sebuah kolom pada matriks\n",
    "\n",
    "## Operasi pada matriks\n",
    "\n"
   ]
  },
  {
   "cell_type": "markdown",
   "metadata": {
    "id": "r7TS91QHL6ET"
   },
   "source": [
    "## Operasi Matriks\n",
    "\n",
    "Ada beberapa operasi yang dapat di lakukan pada matriks:\n",
    "-Penjumlahan\n",
    "-Perkalian\n",
    "-Pengurangan\n",
    "-Transpose Matriks\n",
    "\n",
    "1. Penjumlaham Matriks\n",
    "Penjumlahan pada matriks dapat di lakukan jika baris dan kolomnya sama, atau kedua matriks berordo sama\n",
    "matriks satu dan yang lainnya di jumlahkan sesuai komponen komponen yang seletak\n",
    "hasil matriks yang di jumlahkan akan memiliki ordo yang sama dengan 2 matriks yang di jumlahkan\n",
    "\n",
    "2. perkalian matriks\n",
    "perkalian matriks dapat di lakukan jika jumlah kolom matriks pertama sama dengan jumlah baris matriks ke dua\n",
    "misalkan:\\\n",
    "A=\n",
    "$$\n",
    "\\begin{bmatrix}\n",
    "5 & 2\\\\\n",
    "2 & 3\n",
    "\\end{bmatrix}\n",
    "$$\n",
    "B =\n",
    "$$\n",
    "\\begin{bmatrix}\n",
    "2 & 4 & 2\\\\\n",
    "3 & 1 & 1\n",
    "\\end{bmatrix}\n",
    "$$\n",
    "misalkan kita mengalikan matriks A dan B dan hasilnya kita beri dengan nama matriks C\\\n",
    "maka C:\n",
    "$$\n",
    "\\begin{bmatrix}\n",
    "5*2+3*3 & 5*4+2*1 & 5*2+2*1\\\\\n",
    "2*2+3*3 & 2*4+3*1 & 2*2+3*1\n",
    "\\end{bmatrix}\n",
    "$$\n",
    "jadi C:\\\n",
    "$$\n",
    "\\begin{bmatrix}\n",
    "10+9 & 20+2 & 10+2\\\\\n",
    "4+9 & 8+3 & 4+3\n",
    "\\end{bmatrix}\n",
    "$$\n",
    "C:\\\n",
    "$$\n",
    "\\begin{bmatrix}\n",
    "19 & 22 & 12\\\\\n",
    "13 & 11 & 7\n",
    "\\end{bmatrix}\n",
    "$$\n",
    "\n",
    "3. Pengurangan matrix\n",
    "Pengurangan pada matriks dapat di lakukan jika baris dan kolomnya sama, atau kedua matriks berordo sama\n",
    "matriks satu dan yang lainnya di kurangkan sesuai komponen komponen yang seletak\n",
    "hasil matriks yang di kurangankan akan memiliki ordo yang sama dengan 2 matriks yang di kurangkan\n",
    "\n",
    "4.Transpose Matriks\n",
    "Transpose adalah pembuatan matriks baru dari matriks lama, caranya asdalah menukar posisi baris dengan kolom, simpelnya tranpose jika kamu punya matriks berordo 2x3 setelah di transpose akan jadi matriks 3x2\\\n",
    "contohnya Matriks A:\\\n",
    "\\begin{bmatrix}\n",
    "2 & 4 & 2\\\\\n",
    "3 & 1 & 1\\\\\n",
    "\\end{bmatrix}\n",
    "setelah di transpose akan menjadi:\\\n",
    "A:\\\n",
    "\\begin{bmatrix}\n",
    "2 & 3\\\\\n",
    "4 & 1\\\\\n",
    "2 & 1\\\\\n",
    "\\end{bmatrix}"
   ]
  },
  {
   "cell_type": "code",
   "execution_count": 1,
   "metadata": {
    "colab": {
     "base_uri": "https://localhost:8080/"
    },
    "executionInfo": {
     "elapsed": 24,
     "status": "ok",
     "timestamp": 1710724057537,
     "user": {
      "displayName": "Dicky Saputra",
      "userId": "11534762090813325222"
     },
     "user_tz": -420
    },
    "id": "Sj_cdVFYMzmj",
    "outputId": "8b03840c-2dc9-48ba-de5a-a23a4a07567c"
   },
   "outputs": [
    {
     "name": "stdout",
     "output_type": "stream",
     "text": [
      "[[8 8 8]\n",
      " [3 3 3]]\n"
     ]
    }
   ],
   "source": [
    "#Penjumlahan pada matriks\n",
    "## Matriks dapat di jumlahan apabila memiliki ordo yang sama\n",
    "\n",
    "import numpy as np\n",
    "a = np.array(([1,2,3],[4,5,6]))\n",
    "b = np.array(([7,6,5],[-1,-2,-3]))\n",
    "\n",
    "\n",
    "print(a+b)"
   ]
  },
  {
   "cell_type": "code",
   "execution_count": 2,
   "metadata": {
    "colab": {
     "base_uri": "https://localhost:8080/"
    },
    "executionInfo": {
     "elapsed": 415,
     "status": "ok",
     "timestamp": 1711334868559,
     "user": {
      "displayName": "Dicky Saputra",
      "userId": "11534762090813325222"
     },
     "user_tz": -420
    },
    "id": "cGzNaZyNhAxB",
    "outputId": "1a9892ab-d75e-4a66-a839-dcb1bb869c1e"
   },
   "outputs": [
    {
     "name": "stdout",
     "output_type": "stream",
     "text": [
      "matriks a: \n",
      "[[4 2 3]\n",
      " [2 3 1]\n",
      " [0 1 1]]\n",
      "matriks b: \n",
      "[[ 0.2  0.1 -0.7]\n",
      " [-0.2  0.4  0.2]\n",
      " [ 0.2 -0.4  0.8]]\n",
      "matriks : c\n",
      "[[1.00000000e+00 1.11022302e-16 2.22044605e-16]\n",
      " [0.00000000e+00 1.00000000e+00 2.22044605e-16]\n",
      " [0.00000000e+00 0.00000000e+00 1.00000000e+00]]\n"
     ]
    }
   ],
   "source": [
    "#Perkalian pada matriks\n",
    "#Matriks bisa di kalikan jika kedua matriks memiliki jumlah baris dan kolom yang sama\n",
    "\n",
    "import numpy as np\n",
    "\n",
    "a = np.array(([4,2,3],\n",
    "              [2,3,1],\n",
    "              [0,1,1]))\n",
    "\n",
    "b = np.array(([0.2,0.1,-0.7],\n",
    "              [-0.2,0.4,0.2],\n",
    "              [0.2,-0.4,0.8]))\n",
    "\n",
    "print(\"matriks a: \")\n",
    "print(a)\n",
    "print(\"matriks b: \")\n",
    "print(b)\n",
    "\n",
    "c = np.dot(a,b)\n",
    "print(\"matriks : c\")\n",
    "print(c)\n"
   ]
  },
  {
   "cell_type": "code",
   "execution_count": 3,
   "metadata": {
    "colab": {
     "base_uri": "https://localhost:8080/"
    },
    "executionInfo": {
     "elapsed": 376,
     "status": "ok",
     "timestamp": 1710211556704,
     "user": {
      "displayName": "Dicky Saputra",
      "userId": "11534762090813325222"
     },
     "user_tz": -420
    },
    "id": "_F2UaVO0NhfS",
    "outputId": "ab4ca802-9a51-47f2-8dc1-6b8fa9bcb408"
   },
   "outputs": [
    {
     "name": "stdout",
     "output_type": "stream",
     "text": [
      "[[-6 -4 -2]\n",
      " [ 5  7  9]]\n"
     ]
    }
   ],
   "source": [
    "#Pengurangan pada Matriks\n",
    "## Matriks dapat di jumlahan apabila memiliki ordo yang sama\n",
    "\n",
    "a = np.array(([1,2,3],[4,5,6]))\n",
    "b = np.array(([7,6,5],[-1,-2,-3]))\n",
    "\n",
    "print(a-b)"
   ]
  },
  {
   "cell_type": "code",
   "execution_count": 4,
   "metadata": {
    "colab": {
     "base_uri": "https://localhost:8080/"
    },
    "executionInfo": {
     "elapsed": 369,
     "status": "ok",
     "timestamp": 1710211558909,
     "user": {
      "displayName": "Dicky Saputra",
      "userId": "11534762090813325222"
     },
     "user_tz": -420
    },
    "id": "GLtRSm3-RGhh",
    "outputId": "58866bb8-5f83-4d88-dba4-62bae5c7e611"
   },
   "outputs": [
    {
     "name": "stdout",
     "output_type": "stream",
     "text": [
      "matriks sebelum transpose :\n",
      "[1, 2, 3]\n",
      "[4, 5, 6]\n",
      "[7, 8, 9]\n",
      "\n",
      "\n",
      "matriks sesudah di transpose\n",
      "(1, 4, 7)\n",
      "(2, 5, 8)\n",
      "(3, 6, 9)\n"
     ]
    }
   ],
   "source": [
    "#transpose matriks\n",
    "## Transpose matriks membuat baris menjadi kolom\n",
    "def trans(a):\n",
    "   c = list(zip(*a))\n",
    "   return c\n",
    "\n",
    "def transs(a):\n",
    "  for i in a:\n",
    "   print(i)\n",
    "\n",
    "a = [\n",
    "    [1,2,3],\n",
    "    [4,5,6],\n",
    "    [7,8,9]\n",
    "     ]\n",
    "\n",
    "print(\"matriks sebelum transpose :\")\n",
    "transs(a)\n",
    "print(\"\\n\")\n",
    "print(\"matriks sesudah di transpose\")\n",
    "b = trans(a)\n",
    "transs(b)\n",
    "\n"
   ]
  },
  {
   "cell_type": "code",
   "execution_count": 5,
   "metadata": {
    "colab": {
     "base_uri": "https://localhost:8080/"
    },
    "executionInfo": {
     "elapsed": 21,
     "status": "ok",
     "timestamp": 1711595963173,
     "user": {
      "displayName": "Dicky Saputra",
      "userId": "11534762090813325222"
     },
     "user_tz": -420
    },
    "id": "ikoQrjgizIsE",
    "outputId": "551f3c89-1e37-4b42-bc9c-4574284dcd5c"
   },
   "outputs": [
    {
     "name": "stdout",
     "output_type": "stream",
     "text": [
      "hasil perkalian matriks\n",
      "[11, -5]\n",
      "[41, 1]\n"
     ]
    }
   ],
   "source": [
    "#perkalian matruks tanpa import numpy\n",
    "\n",
    "def matrix_kali(matrix1, matrix2):\n",
    "    if len(matrix1[0]) != len(matrix2):\n",
    "        print(\"ordo eror\")\n",
    "        return None\n",
    "\n",
    "    hasil = [[0 for _ in range(len(matrix2[0]))] for _ in range(len(matrix1))]\n",
    "\n",
    "    for i in range(len(matrix1)):\n",
    "        for j in range(len(matrix2[0])):\n",
    "            for k in range(len(matrix2)):\n",
    "                hasil[i][j] += matrix1[i][k] * matrix2[k][j]\n",
    "\n",
    "    return hasil\n",
    "\n",
    "matrix1 = [[1, 2, 3],\n",
    "           [4, 5, 6]]\n",
    "\n",
    "matrix2 = [[7, 6],\n",
    "           [5, -1],\n",
    "           [-2, -3]]\n",
    "\n",
    "hasil_matrix = matrix_kali(matrix1, matrix2)\n",
    "\n",
    "if hasil_matrix:\n",
    "    print(\"hasil perkalian matriks\")\n",
    "    for row in hasil_matrix:\n",
    "        print(row)\n"
   ]
  }
 ],
 "metadata": {
  "colab": {
   "authorship_tag": "ABX9TyOdFWu2nGkvQBc4ZnZ/k8su",
   "provenance": []
  },
  "kernelspec": {
   "display_name": "Python 3",
   "name": "python3"
  },
  "language_info": {
   "codemirror_mode": {
    "name": "ipython",
    "version": 3
   },
   "file_extension": ".py",
   "mimetype": "text/x-python",
   "name": "python",
   "nbconvert_exporter": "python",
   "pygments_lexer": "ipython3",
   "version": "3.10.13"
  }
 },
 "nbformat": 4,
 "nbformat_minor": 0
}