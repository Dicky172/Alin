{
 "cells": [
  {
   "cell_type": "markdown",
   "metadata": {
    "id": "huLyUVwUlkUv"
   },
   "source": [
    "# UAS_KAL\n",
    "#1"
   ]
  },
  {
   "cell_type": "code",
   "execution_count": 1,
   "metadata": {
    "colab": {
     "base_uri": "https://localhost:8080/"
    },
    "executionInfo": {
     "elapsed": 739,
     "status": "ok",
     "timestamp": 1719189632887,
     "user": {
      "displayName": "Dicky Saputra",
      "userId": "11534762090813325222"
     },
     "user_tz": -420
    },
    "id": "LxMnviF1nXMT",
    "outputId": "ef866cad-2d14-4221-89da-c526f3abe7ea"
   },
   "outputs": [
    {
     "data": {
      "text/plain": [
       "array([0.26345086, 0.18378799, 0.18275399, 0.18378799, 0.18621917])"
      ]
     },
     "execution_count": 1,
     "metadata": {},
     "output_type": "execute_result"
    }
   ],
   "source": [
    "import numpy as np\n",
    "transition_matrix = np.array([\n",
    "    [0, 1/2, 1, 0, 0],  # Node 1\n",
    "    [1/3, 0, 0, 0, 1/2],  # Node 2\n",
    "    [1/3, 1/2, 0, 0, 0],  # Node 3\n",
    "    [1/3, 0, 0, 0, 1/2],  # Node 4\n",
    "    [0, 0, 0, 1, 0]   # Node 5\n",
    "])\n",
    "\n",
    "transition_matrix = transition_matrix / transition_matrix.sum(axis=0)\n",
    "damping_factor = 0.85\n",
    "n = transition_matrix.shape[0]\n",
    "pagerank = np.ones(n) / n\n",
    "teleport = np.ones(n) / n\n",
    "\n",
    "def compute_pagerank(transition_matrix, damping_factor, pagerank, teleport, max_iterations=100, tolerance=1e-6):\n",
    "    for _ in range(max_iterations):\n",
    "        new_pagerank = damping_factor * transition_matrix @ pagerank + (1 - damping_factor) * teleport\n",
    "        if np.linalg.norm(new_pagerank - pagerank) < tolerance:\n",
    "            break\n",
    "        pagerank = new_pagerank\n",
    "    return pagerank\n",
    "\n",
    "pagerank = compute_pagerank(transition_matrix, damping_factor, pagerank, teleport)\n",
    "\n",
    "pagerank\n"
   ]
  },
  {
   "cell_type": "markdown",
   "metadata": {
    "id": "zIM9iQNyoCUR"
   },
   "source": [
    "#2"
   ]
  },
  {
   "cell_type": "code",
   "execution_count": 2,
   "metadata": {
    "executionInfo": {
     "elapsed": 25,
     "status": "ok",
     "timestamp": 1719189632888,
     "user": {
      "displayName": "Dicky Saputra",
      "userId": "11534762090813325222"
     },
     "user_tz": -420
    },
    "id": "kbsvzr-spQG-"
   },
   "outputs": [],
   "source": [
    "import numpy as np\n",
    "\n",
    "def RowSwap(A,k,l):\n",
    "# =============================================================================\n",
    "#     A is a NumPy array.  RowSwap will return duplicate array with rows\n",
    "#     k and l swapped.\n",
    "# =============================================================================\n",
    "    m = A.shape[0]  # m is number of rows in A\n",
    "    n = A.shape[1]  # n is number of columns in A\n",
    "\n",
    "    B = np.copy(A).astype('float64')\n",
    "\n",
    "    for j in range(n):\n",
    "        temp = B[k][j]\n",
    "        B[k][j] = B[l][j]\n",
    "        B[l][j] = temp\n",
    "\n",
    "    return B\n",
    "\n",
    "def RowScale(A,k,scale):\n",
    "# =============================================================================\n",
    "#     A is a NumPy array.  RowScale will return duplicate array with the\n",
    "#     entries of row k multiplied by scale.\n",
    "# =============================================================================\n",
    "    m = A.shape[0]  # m is number of rows in A\n",
    "    n = A.shape[1]  # n is number of columns in A\n",
    "\n",
    "    B = np.copy(A).astype('float64')\n",
    "\n",
    "    for j in range(n):\n",
    "        B[k][j] *= scale\n",
    "\n",
    "    return B\n",
    "\n",
    "def RowAdd(A,k,l,scale):\n",
    "# =============================================================================\n",
    "#     A is a numpy array.  RowAdd will return duplicate array with row\n",
    "#     l modifed.  The new values will be the old values of row l added to\n",
    "#     the values of row k, multiplied by scale.\n",
    "# =============================================================================\n",
    "    m = A.shape[0]  # m is number of rows in A\n",
    "    n = A.shape[1]  # n is number of columns in A\n",
    "\n",
    "    B = np.copy(A).astype('float64')\n",
    "\n",
    "    for j in range(n):\n",
    "        B[l][j] += B[k][j]*scale\n",
    "\n",
    "    return B"
   ]
  },
  {
   "cell_type": "code",
   "execution_count": 3,
   "metadata": {
    "executionInfo": {
     "elapsed": 474,
     "status": "ok",
     "timestamp": 1719190000162,
     "user": {
      "displayName": "Dicky Saputra",
      "userId": "11534762090813325222"
     },
     "user_tz": -420
    },
    "id": "rzyYfNUOpS8z"
   },
   "outputs": [],
   "source": [
    "import numpy as np\n",
    "\n",
    "def RowSwap(A, k, l):\n",
    "    m = A.shape[0]  # m is number of rows in A\n",
    "    n = A.shape[1]  # n is number of columns in A\n",
    "\n",
    "    B = np.copy(A).astype('float64')\n",
    "\n",
    "    for j in range(n):\n",
    "        temp = B[k][j]\n",
    "        B[k][j] = B[l][j]\n",
    "        B[l][j] = temp\n",
    "\n",
    "    return B\n",
    "\n",
    "def RowScale(A, k, scale):\n",
    "    m = A.shape[0]  # m is number of rows in A\n",
    "    n = A.shape[1]  # n is number of columns in A\n",
    "\n",
    "    B = np.copy(A).astype('float64')\n",
    "\n",
    "    for j in range(n):\n",
    "        B[k][j] *= scale\n",
    "\n",
    "    return B\n",
    "\n",
    "def RowAdd(A, k, l, scale):\n",
    "    m = A.shape[0]  # m is number of rows in A\n",
    "    n = A.shape[1]  # n is number of columns in A\n",
    "\n",
    "    B = np.copy(A).astype('float64')\n",
    "\n",
    "    for j in range(n):\n",
    "        B[l][j] += B[k][j] * scale\n",
    "\n",
    "    return B\n",
    "\n",
    "# Initialize the augmented matrix\n",
    "A = np.array([\n",
    "    [1, -1, 1, 3],\n",
    "    [2, 1, 3, 8],\n",
    "    [6, 0, -1, 4]\n",
    "], dtype=float)\n"
   ]
  },
  {
   "cell_type": "code",
   "execution_count": 4,
   "metadata": {
    "colab": {
     "base_uri": "https://localhost:8080/"
    },
    "executionInfo": {
     "elapsed": 22,
     "status": "ok",
     "timestamp": 1719189632888,
     "user": {
      "displayName": "Dicky Saputra",
      "userId": "11534762090813325222"
     },
     "user_tz": -420
    },
    "id": "Lu9otjCLqDcl",
    "outputId": "0ff18b94-a9ac-4572-9565-16a8a928df4e"
   },
   "outputs": [
    {
     "name": "stdout",
     "output_type": "stream",
     "text": [
      "[[ 1. -1.  1.  3.]\n",
      " [ 2.  1.  3.  8.]\n",
      " [ 6.  0. -1.  4.]]\n"
     ]
    }
   ],
   "source": [
    "A = np.array([\n",
    "    [1, -1, 1, 3],\n",
    "    [2, 1, 3, 8],\n",
    "    [6, 0, -1, 4]\n",
    "], dtype=float)\n",
    "\n",
    "A = RowScale(A, 0, 1/A[0,0])\n",
    "print(A)"
   ]
  },
  {
   "cell_type": "code",
   "execution_count": 5,
   "metadata": {
    "colab": {
     "base_uri": "https://localhost:8080/"
    },
    "executionInfo": {
     "elapsed": 19,
     "status": "ok",
     "timestamp": 1719189632889,
     "user": {
      "displayName": "Dicky Saputra",
      "userId": "11534762090813325222"
     },
     "user_tz": -420
    },
    "id": "dXoDlceyqWnl",
    "outputId": "014a6c8b-6889-4ae0-899d-25602c946845"
   },
   "outputs": [
    {
     "name": "stdout",
     "output_type": "stream",
     "text": [
      "[[ 1. -1.  1.  3.]\n",
      " [ 0.  3.  1.  2.]\n",
      " [ 6.  0. -1.  4.]]\n"
     ]
    }
   ],
   "source": [
    "A = RowAdd(A, 0, 1, -A[1,0])\n",
    "print(A)"
   ]
  },
  {
   "cell_type": "code",
   "execution_count": 6,
   "metadata": {
    "colab": {
     "base_uri": "https://localhost:8080/"
    },
    "executionInfo": {
     "elapsed": 16,
     "status": "ok",
     "timestamp": 1719189632889,
     "user": {
      "displayName": "Dicky Saputra",
      "userId": "11534762090813325222"
     },
     "user_tz": -420
    },
    "id": "Qi_M3J9SqjJm",
    "outputId": "9c8c6246-a1df-4885-eb99-f0decea9a835"
   },
   "outputs": [
    {
     "name": "stdout",
     "output_type": "stream",
     "text": [
      "[[  1.  -1.   1.   3.]\n",
      " [  0.   3.   1.   2.]\n",
      " [  0.   6.  -7. -14.]]\n"
     ]
    }
   ],
   "source": [
    "A = RowAdd(A, 0, 2, -A[2,0])\n",
    "print(A)"
   ]
  },
  {
   "cell_type": "code",
   "execution_count": 7,
   "metadata": {
    "colab": {
     "base_uri": "https://localhost:8080/"
    },
    "executionInfo": {
     "elapsed": 14,
     "status": "ok",
     "timestamp": 1719189632890,
     "user": {
      "displayName": "Dicky Saputra",
      "userId": "11534762090813325222"
     },
     "user_tz": -420
    },
    "id": "OmyyVt1eq4KO",
    "outputId": "a326a866-4725-4079-a706-0178d09e53eb"
   },
   "outputs": [
    {
     "name": "stdout",
     "output_type": "stream",
     "text": [
      "[[  1.          -1.           1.           3.        ]\n",
      " [  0.           1.           0.33333333   0.66666667]\n",
      " [  0.           6.          -7.         -14.        ]]\n"
     ]
    }
   ],
   "source": [
    "A = RowScale(A, 1, 1/A[1,1])\n",
    "print(A)"
   ]
  },
  {
   "cell_type": "code",
   "execution_count": 8,
   "metadata": {
    "colab": {
     "base_uri": "https://localhost:8080/"
    },
    "executionInfo": {
     "elapsed": 20,
     "status": "ok",
     "timestamp": 1719189690158,
     "user": {
      "displayName": "Dicky Saputra",
      "userId": "11534762090813325222"
     },
     "user_tz": -420
    },
    "id": "8T_qiLa3sLMX",
    "outputId": "778def09-66c0-4c07-b36a-6c9b55f1df43"
   },
   "outputs": [
    {
     "name": "stdout",
     "output_type": "stream",
     "text": [
      "[[  1.          -1.           1.           3.        ]\n",
      " [  0.           1.           0.33333333   0.66666667]\n",
      " [  0.           0.          -9.         -18.        ]]\n"
     ]
    }
   ],
   "source": [
    "A = RowAdd(A, 1, 2, -A[2,1])\n",
    "print(A)"
   ]
  },
  {
   "cell_type": "code",
   "execution_count": 9,
   "metadata": {
    "colab": {
     "base_uri": "https://localhost:8080/"
    },
    "executionInfo": {
     "elapsed": 456,
     "status": "ok",
     "timestamp": 1719189720661,
     "user": {
      "displayName": "Dicky Saputra",
      "userId": "11534762090813325222"
     },
     "user_tz": -420
    },
    "id": "m2ULtGhhsSLa",
    "outputId": "1ad91bdb-9d4c-401a-b110-8ed2ac28e554"
   },
   "outputs": [
    {
     "name": "stdout",
     "output_type": "stream",
     "text": [
      "[[ 1.         -1.          1.          3.        ]\n",
      " [ 0.          1.          0.33333333  0.66666667]\n",
      " [-0.         -0.          1.          2.        ]]\n"
     ]
    }
   ],
   "source": [
    "A = RowScale(A, 2, 1/A[2,2])\n",
    "print(A)"
   ]
  },
  {
   "cell_type": "code",
   "execution_count": 10,
   "metadata": {
    "colab": {
     "base_uri": "https://localhost:8080/"
    },
    "executionInfo": {
     "elapsed": 17,
     "status": "ok",
     "timestamp": 1719189771453,
     "user": {
      "displayName": "Dicky Saputra",
      "userId": "11534762090813325222"
     },
     "user_tz": -420
    },
    "id": "H9pxySR3sZto",
    "outputId": "023bf9fc-fd99-44c7-eb27-d4f9075c4ddd"
   },
   "outputs": [
    {
     "name": "stdout",
     "output_type": "stream",
     "text": [
      "[[ 1. -1.  1.  3.]\n",
      " [ 0.  1.  0.  0.]\n",
      " [-0. -0.  1.  2.]]\n"
     ]
    }
   ],
   "source": [
    "A = RowAdd(A, 2, 1, -A[1,2])\n",
    "print(A)"
   ]
  },
  {
   "cell_type": "code",
   "execution_count": 11,
   "metadata": {
    "colab": {
     "base_uri": "https://localhost:8080/"
    },
    "executionInfo": {
     "elapsed": 531,
     "status": "ok",
     "timestamp": 1719189859596,
     "user": {
      "displayName": "Dicky Saputra",
      "userId": "11534762090813325222"
     },
     "user_tz": -420
    },
    "id": "JembMrgXs0Uo",
    "outputId": "7857c7ce-bedd-4d1b-9e5b-f3511f0bd3e9"
   },
   "outputs": [
    {
     "name": "stdout",
     "output_type": "stream",
     "text": [
      "[[ 1. -1.  0.  1.]\n",
      " [ 0.  1.  0.  0.]\n",
      " [-0. -0.  1.  2.]]\n"
     ]
    }
   ],
   "source": [
    "A = RowAdd(A, 2, 0, -A[0,2])\n",
    "print(A)"
   ]
  },
  {
   "cell_type": "code",
   "execution_count": 12,
   "metadata": {
    "colab": {
     "base_uri": "https://localhost:8080/"
    },
    "executionInfo": {
     "elapsed": 19,
     "status": "ok",
     "timestamp": 1719189884282,
     "user": {
      "displayName": "Dicky Saputra",
      "userId": "11534762090813325222"
     },
     "user_tz": -420
    },
    "id": "GPMr3LX2s6eR",
    "outputId": "da92ef65-0d03-423e-b2ab-d431b3ae896c"
   },
   "outputs": [
    {
     "name": "stdout",
     "output_type": "stream",
     "text": [
      "[[ 1.  0.  0.  1.]\n",
      " [ 0.  1.  0.  0.]\n",
      " [-0. -0.  1.  2.]]\n"
     ]
    }
   ],
   "source": [
    "A = RowAdd(A, 1, 0, -A[0,1])\n",
    "print(A)"
   ]
  },
  {
   "cell_type": "code",
   "execution_count": 13,
   "metadata": {
    "colab": {
     "base_uri": "https://localhost:8080/"
    },
    "executionInfo": {
     "elapsed": 519,
     "status": "ok",
     "timestamp": 1719189971922,
     "user": {
      "displayName": "Dicky Saputra",
      "userId": "11534762090813325222"
     },
     "user_tz": -420
    },
    "id": "4YmAh9mxtPGT",
    "outputId": "a53e2308-c786-4a10-dd1d-ebc4411b5f9c"
   },
   "outputs": [
    {
     "data": {
      "text/plain": [
       "(1.0, 0.0, 2.0)"
      ]
     },
     "execution_count": 13,
     "metadata": {},
     "output_type": "execute_result"
    }
   ],
   "source": [
    "#solusi\n",
    "x1 = A[0, 3]\n",
    "x2 = A[1, 3]\n",
    "x3 = A[2, 3]\n",
    "\n",
    "x1, x2, x3"
   ]
  }
 ],
 "metadata": {
  "colab": {
   "authorship_tag": "ABX9TyNdeSM/FEDo0WcP/Qm9hC5c",
   "provenance": []
  },
  "kernelspec": {
   "display_name": "Python 3",
   "name": "python3"
  },
  "language_info": {
   "codemirror_mode": {
    "name": "ipython",
    "version": 3
   },
   "file_extension": ".py",
   "mimetype": "text/x-python",
   "name": "python",
   "nbconvert_exporter": "python",
   "pygments_lexer": "ipython3",
   "version": "3.10.13"
  }
 },
 "nbformat": 4,
 "nbformat_minor": 0
}