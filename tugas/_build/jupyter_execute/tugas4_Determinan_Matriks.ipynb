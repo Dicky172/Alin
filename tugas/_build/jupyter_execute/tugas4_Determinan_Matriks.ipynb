{
 "cells": [
  {
   "cell_type": "markdown",
   "metadata": {
    "id": "rSr85C9zbb0j"
   },
   "source": [
    "#Determinan matriks\n",
    "ordo matriksnya harus sama\n",
    "\n",
    "determinana dari matriks identitas adalah satu secara keseluruhan\n",
    "\n",
    "merubah baris akan mempengaruhi tanda dari determinan\n",
    "\n",
    "jika matriks ada baris/kolom yang merupakan 2x dari baris/kolom yang lain determinannya adalah 0\n",
    "\n",
    "matriks yang merupakan kelipatan dari matriks lain maka determinan dari matriks kelipatannya adalah:\n",
    "kelipatan pangkat ordo di kali determinan matriks pertaman\n",
    "misal determinan matriks pertama 3, maka determinan matriks ke 2 adalah 24\n",
    "\n",
    "jika ada matriks yang barisnya merupakan kelipatan 2 dari baris matriks lain maka determinannya adalah 2x dari matrikx pertama:\n",
    "misal determinan matrtiks ke 1 = 5, maka determinan matriks ke 2 adalah 10\n",
    "\n",
    "jika ada matriks yang kolomnya merupakan kelipatan 2 dari kolom matriks lain amaka determinannya adalah 4x dari matriks pertama:\n",
    "misal determinan matriks 1 = 5 maka determinan matriks ke 2 = 20\n",
    "\n",
    "jika baris matriks merupakan hasil pengurangan dari determinan matriks lain maka baris matriksnya ke2 adalah hasil pengurangan dari baris matriks ke1:\n",
    "misal\\\n",
    "mat1=\\\n",
    "\\begin{bmatrix}\n",
    "3 & 4\\\\\n",
    "2 & 1\n",
    "\\end{bmatrix}\n",
    "mat2=\n",
    "\n",
    "\n",
    "determinan matriks a jika di kali determinan matriks b akan mendapat matriks baru"
   ]
  },
  {
   "cell_type": "code",
   "execution_count": 1,
   "metadata": {
    "colab": {
     "base_uri": "https://localhost:8080/"
    },
    "executionInfo": {
     "elapsed": 626,
     "status": "ok",
     "timestamp": 1714961263557,
     "user": {
      "displayName": "Dicky Saputra",
      "userId": "11534762090813325222"
     },
     "user_tz": -420
    },
    "id": "S_btmo6fdBwr",
    "outputId": "1912c173-7a03-42ce-e044-bdef34dfe7f0"
   },
   "outputs": [
    {
     "ename": "SyntaxError",
     "evalue": "invalid syntax (3270160047.py, line 22)",
     "output_type": "error",
     "traceback": [
      "\u001b[0;36m  Cell \u001b[0;32mIn[1], line 22\u001b[0;36m\u001b[0m\n\u001b[0;31m    x2=\u001b[0m\n\u001b[0m       ^\u001b[0m\n\u001b[0;31mSyntaxError\u001b[0m\u001b[0;31m:\u001b[0m invalid syntax\n"
     ]
    }
   ],
   "source": [
    "import numpy as np\n",
    "\n",
    "a = np.array([[1,0], [0,1]])\n",
    "b = np.array([[1,0,0], [0,1,0],[0,0,1]])\n",
    "c = np.array([[1,2,1],[3,1,2],[2,1,2]])\n",
    "d = np.array([[3,1,2],[1,2,1],[2,1,2]])\n",
    "e = np.array([[1,2,1],[2,4,2],[2,1,2]]) #baris 2 merupakan 2x baris 1 matriks d\n",
    "f = np.array([[1,2,1],[2,4,2],[2,4,3]])\n",
    "g = np.array([[6,2,4],[2,4,2],[4,2,4]])\n",
    "h = np.array([[3,4],[2,1]])\n",
    "i = np.array([[6,8],[4,2]])\n",
    "\n",
    "k = np.array([[6,8],[2,1]])\n",
    "j = np.array([[3,4],[2,1]])\n",
    "l = np.array([[6,4],[4,1]])\n",
    "\n",
    "z = np.array([[7,5],[2,1]])\n",
    "\n",
    "x = np.array([[1,7,3],[0,1,4],[0,0,1]])\n",
    "x1 = np.array([[1,0,0],[2,1,0],[2,1,2]])\n",
    "\n",
    "x2=\n",
    "\n",
    "print(\"Numpy Matrix is:\")\n",
    "# print(n_array)\n",
    "\n",
    "det1 = np.linalg.det(x)\n",
    "det = np.linalg.det(x1)\n",
    "\n",
    "print(\"\\nDeterminant of given 3x3 matrix:\")\n",
    "print(float(det1))\n",
    "print(float(det))"
   ]
  }
 ],
 "metadata": {
  "colab": {
   "authorship_tag": "ABX9TyOlQ29HLjHY/W7tl2Yfhwjw",
   "provenance": []
  },
  "kernelspec": {
   "display_name": "Python 3",
   "name": "python3"
  },
  "language_info": {
   "codemirror_mode": {
    "name": "ipython",
    "version": 3
   },
   "file_extension": ".py",
   "mimetype": "text/x-python",
   "name": "python",
   "nbconvert_exporter": "python",
   "pygments_lexer": "ipython3",
   "version": "3.10.13"
  }
 },
 "nbformat": 4,
 "nbformat_minor": 0
}