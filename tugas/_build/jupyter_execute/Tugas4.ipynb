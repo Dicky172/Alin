{
 "cells": [
  {
   "cell_type": "markdown",
   "metadata": {
    "id": "rSr85C9zbb0j"
   },
   "source": [
    "# Determinan matriks\n",
    "ordo matriksnya harus sama\n",
    "\n",
    "-determinana dari matriks identitas adalah satu secara keseluruhan\n",
    "\n",
    "-merubah baris akan mempengaruhi tanda dari determinan\n",
    "\n",
    "-jika matriks ada baris/kolom yang merupakan 2x dari baris/kolom yang lain determinannya adalah 0\n",
    "\n",
    "-matriks yang merupakan kelipatan dari matriks lain maka determinan dari matriks kelipatannya adalah:\n",
    "kelipatan pangkat ordo di kali determinan matriks pertaman\n",
    "misal determinan matriks pertama 3, maka determinan matriks ke 2 adalah 24\n",
    "misal mat1=\\\n",
    "\\begin{bmatrix}\n",
    "1 & 2\\\\\n",
    "2 & 1\n",
    "\\end{bmatrix} determinan= 2\\\n",
    "dan mat 2 yang merupakan kelipatan 2x mat 1:\n",
    "\\begin{bmatrix}\n",
    "2 & 4\\\\\n",
    "4 & 4\n",
    "\\end{bmatrix} determinan=12\\\n",
    "rumusnya:\\: $x^2dikali(determinan)$\n",
    "\n",
    "-jika ada matriks yang barisnya merupakan kelipatan 2 dari baris matriks lain maka determinannya adalah 2x dari matrikx pertama:\n",
    "misal determinan matrtiks ke 1 = 5, maka determinan matriks ke 2 adalah 10\\\n",
    "contoh:\\\n",
    "Misalkan kita punya matriks \\\n",
    "𝐴=\\begin{bmatrix}\n",
    "3 & 4\\\\\n",
    "2 & 1\n",
    "\\end{bmatrix}. Maka determinan dari matriks =-5\n",
    "\n",
    "Sekarang, jika kita gandakan baris pertama dari matriks\n",
    "𝐴2= \\begin{bmatrix}\n",
    "6 & 8\\\\\n",
    "2 & 1\n",
    "\\end{bmatrix} dengan determinannya adalah -10\n",
    "Ini menunjukkan bahwa ketika kita menggandakan baris pertama matriks\n",
    "𝐴\n",
    "A dengan faktor skalar (dalam hal ini 2), determinan dari matriks hasil\n",
    "𝐴\n",
    "A2\n",
    "  menjadi dua kali lipat dari determinan matriks\n",
    "𝐴\n",
    "A2\n",
    "\n",
    "-jika ada matriks yang kolomnya merupakan kelipatan 2 dari kolom matriks lain amaka determinannya adalah 4x dari matriks pertama:\n",
    "misal determinan matriks 1 = 5 maka determinan matriks ke 2 = 20\n",
    "\n",
    "-jika baris matriks merupakan hasil pengurangan dari determinan matriks lain maka baris matriksnya ke2 adalah hasil pengurangan dari baris matriks ke1:\n",
    "misal\\\n",
    "mat1=\\\n",
    "\\begin{bmatrix}\n",
    "3 & 4\\\\\n",
    "2 & 1\n",
    "\\end{bmatrix}\n",
    "mat2=\n",
    "\\begin{bmatrix}\n",
    "4 & 7\\\\\n",
    "2 & 1\n",
    "\\end{bmatrix}\n",
    "kolomnya pertama di tambahkan maka akan menjadi:\\\n",
    "\\begin{bmatrix}\n",
    "1 & 3\\\\\n",
    "2 & 1\n",
    "\\end{bmatrix}\n",
    "\n",
    "-jika metriks merupakan tipe matriks segitiga atas/bawah atau matriks diagonal makan determinan merupakan hasil kali dari diagonal utamanya"
   ]
  },
  {
   "cell_type": "code",
   "execution_count": 1,
   "metadata": {
    "colab": {
     "base_uri": "https://localhost:8080/"
    },
    "executionInfo": {
     "elapsed": 421,
     "status": "ok",
     "timestamp": 1715560855480,
     "user": {
      "displayName": "Dicky Saputra",
      "userId": "11534762090813325222"
     },
     "user_tz": -420
    },
    "id": "S_btmo6fdBwr",
    "outputId": "d72e46d5-c56a-4627-80d2-9004f0a9094e"
   },
   "outputs": [
    {
     "name": "stdout",
     "output_type": "stream",
     "text": [
      "1.0\n",
      "2.0\n"
     ]
    }
   ],
   "source": [
    "import numpy as np\n",
    "\n",
    "a = np.array([[1,0], [0,1]])\n",
    "b = np.array([[1,0,0], [0,1,0],[0,0,1]])\n",
    "c = np.array([[1,2,1],[3,1,2],[2,1,2]])\n",
    "d = np.array([[3,1,2],[1,2,1],[2,1,2]])\n",
    "e = np.array([[1,2,1],[2,4,2],[2,1,2]]) #baris 2 merupakan 2x baris 1 matriks d\n",
    "f = np.array([[1,2,1],[2,4,2],[2,4,3]])\n",
    "g = np.array([[6,2,4],[2,4,2],[4,2,4]]) #matriks ini merupakan 2x matriks d\n",
    "h = np.array([[3,4],[2,1]])\n",
    "i = np.array([[6,8],[4,2]])\n",
    "\n",
    "k = np.array([[6,8],[2,1]])\n",
    "j = np.array([[3,4],[2,1]])\n",
    "l = np.array([[6,4],[4,1]])\n",
    "\n",
    "z = np.array([[7,5],[2,1]])\n",
    "\n",
    "x = np.array([[1,2,3],[0,1,4],[0,0,1]])\n",
    "x1 = np.array([[1,0,0],[2,1,0],[2,1,2]])\n",
    "\n",
    "x2= np.array([[1,2],[2,1]])\n",
    "x3 = np.array([[2,4],[4,2]])\n",
    "\n",
    "# print(\"Numpy Matrix is:\")\n",
    "# print(n_array)\n",
    "\n",
    "det1 = np.linalg.det(x)\n",
    "det = np.linalg.det(x1)\n",
    "\n",
    "# print(\"\\nDeterminant of given 3x3 matrix:\")\n",
    "print(float(det1))\n",
    "print(float(det))"
   ]
  },
  {
   "cell_type": "markdown",
   "metadata": {
    "id": "7gT70BUTRWvT"
   },
   "source": [
    "formulasi bentuk determinan"
   ]
  },
  {
   "cell_type": "code",
   "execution_count": 2,
   "metadata": {
    "colab": {
     "base_uri": "https://localhost:8080/"
    },
    "executionInfo": {
     "elapsed": 11,
     "status": "ok",
     "timestamp": 1715560859774,
     "user": {
      "displayName": "Dicky Saputra",
      "userId": "11534762090813325222"
     },
     "user_tz": -420
    },
    "id": "b5tMF5ZrRblE",
    "outputId": "5158e298-ab4c-4440-b1f9-fe2a01856c0c"
   },
   "outputs": [
    {
     "name": "stdout",
     "output_type": "stream",
     "text": [
      "2.9999999999999996\n"
     ]
    }
   ],
   "source": [
    "det11= [[3,2,3],\n",
    "       [2,1,2],\n",
    "       [4,2,1]]\n",
    "\n",
    "kxjsk= np.linalg.det(det11)\n",
    "print(kxjsk)"
   ]
  },
  {
   "cell_type": "code",
   "execution_count": 3,
   "metadata": {
    "colab": {
     "base_uri": "https://localhost:8080/"
    },
    "executionInfo": {
     "elapsed": 505,
     "status": "ok",
     "timestamp": 1715562254387,
     "user": {
      "displayName": "Dicky Saputra",
      "userId": "11534762090813325222"
     },
     "user_tz": -420
    },
    "id": "1SZp1yBUeiQL",
    "outputId": "82fea81f-36f6-4405-d721-dfe27a49db48"
   },
   "outputs": [
    {
     "name": "stdout",
     "output_type": "stream",
     "text": [
      "Matriks A:\n",
      "[[3 1 3]\n",
      " [2 1 2]\n",
      " [4 2 1]]\n",
      "\n",
      "Invers dari matriks A:\n",
      "[[ 1.         -1.66666667  0.33333333]\n",
      " [-2.          3.         -0.        ]\n",
      " [ 0.          0.66666667 -0.33333333]]\n"
     ]
    }
   ],
   "source": [
    "import numpy as np\n",
    "\n",
    "# Definisikan matriks yang ingin diinvers\n",
    "A = np.array([[3,1,3],\n",
    "              [2,1,2],\n",
    "              [4,2,1]])\n",
    "\n",
    "# Cari invers dari matriks A\n",
    "A_inverse = np.linalg.inv(A)\n",
    "\n",
    "print(\"Matriks A:\")\n",
    "print(A)\n",
    "\n",
    "print(\"\\nInvers dari matriks A:\")\n",
    "print(A_inverse)\n"
   ]
  },
  {
   "cell_type": "markdown",
   "metadata": {
    "id": "HHUVEEK6lK9L"
   },
   "source": [
    "menghitung determinan dan invers metriks\n",
    "menghitung invers matriks 5x5"
   ]
  },
  {
   "cell_type": "markdown",
   "metadata": {
    "id": "-id9Is_SaA6a"
   },
   "source": [
    "Tentukan Matriks dan Ordo:\n",
    "Misalkan matriks yang diberikan adalah \\( A \\) dengan ordo \\( 5 \\times 5 \\):\n",
    "\n",
    "\\[ A = \\begin{bmatrix}\n",
    "1 & 0 & 4 & -6 & 3 \\\\\n",
    "2 & 5 & 0 & 3 & 1 \\\\\n",
    "-1 & 2 & 3 & 5 & -2 \\\\\n",
    "2 & 1 & -2 & 3 & 0 \\\\\n",
    "3 & -1 & 1 & 0 & 2 \\\\\n",
    "\\end{bmatrix} \\]\n",
    "\n",
    "Kita akan menghitung determinan det(A) dengan menggunakan ekspansi kofaktor terhadap baris pertama. Rumusnya adalah:\n",
    "\\[ \\det(A) = a_{11} C_{11} - a_{12} C_{12} + a_{13} C_{13} - a_{14} C_{14} + a_{15} C_{15} \\]\n",
    "di mana \\( a_{11}, a_{12}, a_{13}, a_{14}, a_{15} \\) adalah elemen-elemen baris pertama matriks A, dan \\( C_{11}, C_{12}, C_{13}, C_{14}, C_{15} \\) adalah kofaktor-kofaktor yang sesuai.\n",
    "\n",
    "Langkah-langkahnya adalah sebagai berikut:\n",
    "\n",
    "1. **Tentukan Elemen dan Kofaktor:**\n",
    "   - \\( a_{11} = 1, a_{12} = 0, a_{13} = 4, a_{14} = -6, a_{15} = 3 \\)\n",
    "\n",
    "2. **Hitung Kofaktor \\( C_{11}, C_{12}, C_{13}, C_{14}, C_{15} \\):**\n",
    "   - \\( C_{11} = \\det(M_{11}) \\)\n",
    "   - \\( C_{12} = -\\det(M_{12}) \\)\n",
    "   - \\( C_{13} = \\det(M_{13}) \\)\n",
    "   - \\( C_{14} = -\\det(M_{14}) \\)\n",
    "   - \\( C_{15} = \\det(M_{15}) \\)\n",
    "\n",
    "   di mana \\( M_{ij} \\) adalah matriks minor dari A setelah menghapus baris pertama dan kolom ke-j\n",
    "\n",
    "3. **Hitung Determinan Masing-masing Minor:**\n",
    "\n",
    "   \\( M_{11} = \\begin{bmatrix}\n",
    "   5 & 0 & 3 & 1 \\\\\n",
    "   2 & 3 & 5 & -2 \\\\\n",
    "   1 & -2 & 3 & 0 \\\\\n",
    "   -1 & 1 & 0 & 2 \\\\\n",
    "   \\end{bmatrix} \\)\n",
    "\n",
    "   \\[ \\det(M_{11}) = 5 \\det\\begin{bmatrix}\n",
    "   3 & 5 & -2 \\\\\n",
    "   -2 & 3 & 0 \\\\\n",
    "   1 & 0 & 2 \\\\\n",
    "   \\end{bmatrix} - 0 + 3 \\det\\begin{bmatrix}\n",
    "   2 & 3 & -2 \\\\\n",
    "   1 & -2 & 0 \\\\\n",
    "   -1 & 1 & 2 \\\\\n",
    "   \\end{bmatrix} - 1 \\det\\begin{bmatrix}\n",
    "   2 & 3 & 5 \\\\\n",
    "   1 & -2 & 3 \\\\\n",
    "   -1 & 1 & 0 \\\\\n",
    "   \\end{bmatrix} \\]\n",
    "\n",
    "   \\[ \\det(M_{11}) = 5(-30) + 3(0) - (-16) = -150 + 0 + 16 = -134 \\]\n",
    "\n",
    "   \\( M_{12} = \\begin{bmatrix}\n",
    "   2 & 0 & 3 & 1 \\\\\n",
    "   -1 & 3 & 5 & -2 \\\\\n",
    "   2 & -2 & 3 & 0 \\\\\n",
    "   3 & 1 & 0 & 2 \\\\\n",
    "   \\end{bmatrix} \\)\n",
    "\n",
    "   \\[ \\det(M_{12}) = -(2 \\det\\begin{bmatrix}\n",
    "   3 & 5 & -2 \\\\\n",
    "   -2 & 3 & 0 \\\\\n",
    "   1 & 0 & 2 \\\\\n",
    "   \\end{bmatrix}) = -(2 \\times (-30)) = 60 \\]\n",
    "\n",
    "   \\( M_{13} = \\begin{bmatrix}\n",
    "   2 & 5 & 3 & 1 \\\\\n",
    "   -1 & 2 & 5 & -2 \\\\\n",
    "   2 & 1 & 3 & 0 \\\\\n",
    "   3 & -1 & 0 & 2 \\\\\n",
    "   \\end{bmatrix} \\)\n",
    "\n",
    "   \\[ \\det(M_{13}) = 2 \\det\\begin{bmatrix}\n",
    "   2 & 3 & -2 \\\\\n",
    "   1 & -2 & 0 \\\\\n",
    "   -1 & 1 & 2 \\\\\n",
    "   \\end{bmatrix} - 5 \\det\\begin{bmatrix}\n",
    "   -1 & 5 & -2 \\\\\n",
    "   2 & 3 & 0 \\\\\n",
    "   3 & 0 & 2 \\\\\n",
    "   \\end{bmatrix} + 3 \\det\\begin{bmatrix}\n",
    "   -1 & 2 & -2 \\\\\n",
    "   2 & 1 & 0 \\\\\n",
    "   3 & -1 & 2 \\\\\n",
    "   \\end{bmatrix} - 1 \\det\\begin{bmatrix}\n",
    "   -1 & 2 & 5 \\\\\n",
    "   2 & 1 & 3 \\\\\n",
    "   3 & -1 & 0 \\\\\n",
    "   \\end{bmatrix} \\]\n",
    "\n",
    "   \\[ \\det(M_{13}) = 2(22) - 5(20) + 0 + 3(28) - (-16) = 44 - 100 + 84 + 16 = 44 \\]\n",
    "\n",
    "   \\( M_{14} = \\begin{bmatrix}\n",
    "   2 & 5 & 0 & 1 \\\\\n",
    "   -1 & 2 & 3 & -2 \\\\\n",
    "   2 & 1 & -2 & 0 \\\\\n",
    "   3 & -1 & 1 & 2 \\\\\n",
    "   \\end{bmatrix} \\)\n",
    "\n",
    "   \\[ \\det(M_{14}) = -(2 \\det\\begin{bmatrix}\n",
    "   2 & 3 & -2 \\\\\n",
    "   1 & -2 & 0 \\\\\n",
    "   -1 & 1 & 2 \\\\\n",
    "   \\end{bmatrix}) = -(2 \\times 6) = -12 \\]\n",
    "\n",
    "   \\( M_{15} = \\begin{bmatrix}\n",
    "   2 & 5 & 0 & 3 \\\\\n",
    "   -1 & 2 & 3 & 5 \\\\\n",
    "   2 & 1 & -2 & 3 \\\\\n",
    "   3 & -1 & 1 & 0 \\\\\n",
    "   \\end{bmatrix} \\)\n",
    "\n",
    "   \\[ \\det(M_{15}) = 2 \\det\\begin{bmatrix}\n",
    "   2 & 3 & 5 \\\\\n",
    "   1 & -2 & 3 \\\\\n",
    "   -1 & 1 & 0 \\\\\n",
    "   \\end{bmatrix} - 5 \\det\\begin{bmatrix}\n",
    "   -1 & 3 & 5 \\\\\n",
    "   2 & -2 & 3 \\\\\n",
    "   3 & 0 & 2 \\\\\n",
    "   \\end{bmatrix} + 0 \\det\\begin{bmatrix}\n",
    "   -1 & 2 & 5 \\\\\n",
    "   2 & 1 & 3 \\\\\n",
    "   3 & -1 & 0 \\\\\n",
    "   \\end{bmatrix} - 3 \\det\\begin{bmatrix}\n",
    "   -1 & 2 & 3 \\\\\n",
    "   2 & 1 & -2 \\\\\n",
    "   3 & -1 & 1 \\\\\n",
    "   \\end{bmatrix} \\]\n",
    "\n",
    "   \\[ \\det(M_{15}) = 2(22) - 5(20) + 0 - 3(-6) = 44 - 100 + 0 - 18 = -74 \\]\n",
    "\n",
    "4. **Hitung Determinan Utama:**\n",
    "\\[ \\det(A) = (1)(-134) - (0)(60) + (4)(44) - (-6)(-12) + (3)(-74) \\]\n",
    "\\[ \\det(A) = -134 + 0 + 176 - 72 - 222 \\]\n",
    "\\[ \\det(A) = -252 \\]\n"
   ]
  },
  {
   "cell_type": "code",
   "execution_count": 4,
   "metadata": {
    "colab": {
     "base_uri": "https://localhost:8080/"
    },
    "executionInfo": {
     "elapsed": 618,
     "status": "ok",
     "timestamp": 1716131667747,
     "user": {
      "displayName": "Dicky Saputra",
      "userId": "11534762090813325222"
     },
     "user_tz": -420
    },
    "id": "iPWl33chaoV6",
    "outputId": "f572d79f-b087-49d3-f4cd-6bf38e7b7753"
   },
   "outputs": [
    {
     "name": "stdout",
     "output_type": "stream",
     "text": [
      "determinan 228\n"
     ]
    }
   ],
   "source": [
    "import numpy as np\n",
    "\n",
    "def minor(matrix, i, j):\n",
    "    # Menghapus baris ke-i dan kolom ke-j\n",
    "    minor_matrix = np.delete(np.delete(matrix, i, axis=0), j, axis=1)\n",
    "    return minor_matrix\n",
    "\n",
    "def determinant(matrix):\n",
    "    # Basis kasus untuk matriks 1x1\n",
    "    if len(matrix) == 1:\n",
    "        return matrix[0, 0]\n",
    "\n",
    "    det = 0\n",
    "    for j in range(matrix.shape[1]):\n",
    "        # Menghitung kofaktor\n",
    "        cofactor = ((-1) ** j) * matrix[0, j] * determinant(minor(matrix, 0, j))\n",
    "        det += cofactor\n",
    "    return det\n",
    "\n",
    "# Matriks A\n",
    "A = np.array([\n",
    "    [1, 0, 4, -6, 3],\n",
    "    [2, 5, 0, 3, 1],\n",
    "    [-1, 2, 3, 5, -2],\n",
    "    [2, 1, -2, 3, 0],\n",
    "    [3, -1, 1, 0, 2]\n",
    "])\n",
    "\n",
    "# Menghitung determinan\n",
    "det_A = determinant(A)\n",
    "print(f\"determinan {det_A}\")\n"
   ]
  }
 ],
 "metadata": {
  "colab": {
   "authorship_tag": "ABX9TyMMY1MSAyMIMFUdbwlNtzYF",
   "provenance": []
  },
  "kernelspec": {
   "display_name": "Python 3",
   "name": "python3"
  },
  "language_info": {
   "codemirror_mode": {
    "name": "ipython",
    "version": 3
   },
   "file_extension": ".py",
   "mimetype": "text/x-python",
   "name": "python",
   "nbconvert_exporter": "python",
   "pygments_lexer": "ipython3",
   "version": "3.10.13"
  }
 },
 "nbformat": 4,
 "nbformat_minor": 0
}